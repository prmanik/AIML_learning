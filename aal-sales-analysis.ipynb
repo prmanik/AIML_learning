{
 "cells": [
  {
   "cell_type": "code",
   "execution_count": 1,
   "id": "8298f0ef",
   "metadata": {
    "_cell_guid": "b1076dfc-b9ad-4769-8c92-a6c4dae69d19",
    "_uuid": "8f2839f25d086af736a60e9eeb907d3b93b6e0e5",
    "execution": {
     "iopub.execute_input": "2024-05-14T10:07:40.056851Z",
     "iopub.status.busy": "2024-05-14T10:07:40.056247Z",
     "iopub.status.idle": "2024-05-14T10:07:40.854097Z",
     "shell.execute_reply": "2024-05-14T10:07:40.853316Z"
    },
    "papermill": {
     "duration": 0.817171,
     "end_time": "2024-05-14T10:07:40.856279",
     "exception": false,
     "start_time": "2024-05-14T10:07:40.039108",
     "status": "completed"
    },
    "tags": []
   },
   "outputs": [
    {
     "name": "stdout",
     "output_type": "stream",
     "text": [
      "/kaggle/input/course-end-project-sales-analysis/AusApparalSales4thQrt2020.csv\n"
     ]
    }
   ],
   "source": [
    "# This Python 3 environment comes with many helpful analytics libraries installed\n",
    "# It is defined by the kaggle/python Docker image: https://github.com/kaggle/docker-python\n",
    "# For example, here's several helpful packages to load\n",
    "\n",
    "import numpy as np # linear algebra\n",
    "import pandas as pd # data processing, CSV file I/O (e.g. pd.read_csv)\n",
    "\n",
    "# Input data files are available in the read-only \"../input/\" directory\n",
    "# For example, running this (by clicking run or pressing Shift+Enter) will list all files under the input directory\n",
    "\n",
    "import os\n",
    "for dirname, _, filenames in os.walk('/kaggle/input'):\n",
    "    for filename in filenames:\n",
    "        print(os.path.join(dirname, filename))\n",
    "\n",
    "# You can write up to 20GB to the current directory (/kaggle/working/) that gets preserved as output when you create a version using \"Save & Run All\" \n",
    "# You can also write temporary files to /kaggle/temp/, but they won't be saved outside of the current session"
   ]
  },
  {
   "cell_type": "code",
   "execution_count": 2,
   "id": "54e4ca90",
   "metadata": {
    "execution": {
     "iopub.execute_input": "2024-05-14T10:07:40.890742Z",
     "iopub.status.busy": "2024-05-14T10:07:40.889708Z",
     "iopub.status.idle": "2024-05-14T10:07:42.043847Z",
     "shell.execute_reply": "2024-05-14T10:07:42.042638Z"
    },
    "papermill": {
     "duration": 1.174244,
     "end_time": "2024-05-14T10:07:42.046398",
     "exception": false,
     "start_time": "2024-05-14T10:07:40.872154",
     "status": "completed"
    },
    "tags": []
   },
   "outputs": [],
   "source": [
    "import pandas as pd\n",
    "import matplotlib.pyplot as plt\n",
    "import seaborn as sns"
   ]
  },
  {
   "cell_type": "markdown",
   "id": "25a3a147",
   "metadata": {
    "papermill": {
     "duration": 0.015106,
     "end_time": "2024-05-14T10:07:42.076927",
     "exception": false,
     "start_time": "2024-05-14T10:07:42.061821",
     "status": "completed"
    },
    "tags": []
   },
   "source": []
  },
  {
   "cell_type": "markdown",
   "id": "eda3aaeb",
   "metadata": {
    "papermill": {
     "duration": 0.014985,
     "end_time": "2024-05-14T10:07:42.108425",
     "exception": false,
     "start_time": "2024-05-14T10:07:42.093440",
     "status": "completed"
    },
    "tags": []
   },
   "source": [
    "1.\tData Wrangling\n",
    "●\tEnsure that the data is clean and that there is no missing or incorrect data. \n",
    "○\tInspect the data manually for missing/incorrect data using the functions isna(), and notna()."
   ]
  },
  {
   "cell_type": "markdown",
   "id": "614fd875",
   "metadata": {
    "papermill": {
     "duration": 0.014839,
     "end_time": "2024-05-14T10:07:42.139555",
     "exception": false,
     "start_time": "2024-05-14T10:07:42.124716",
     "status": "completed"
    },
    "tags": []
   },
   "source": []
  },
  {
   "cell_type": "code",
   "execution_count": 3,
   "id": "0ce93fea",
   "metadata": {
    "execution": {
     "iopub.execute_input": "2024-05-14T10:07:42.171690Z",
     "iopub.status.busy": "2024-05-14T10:07:42.171323Z",
     "iopub.status.idle": "2024-05-14T10:07:42.217540Z",
     "shell.execute_reply": "2024-05-14T10:07:42.216705Z"
    },
    "papermill": {
     "duration": 0.064794,
     "end_time": "2024-05-14T10:07:42.219450",
     "exception": false,
     "start_time": "2024-05-14T10:07:42.154656",
     "status": "completed"
    },
    "tags": []
   },
   "outputs": [
    {
     "data": {
      "text/html": [
       "<div>\n",
       "<style scoped>\n",
       "    .dataframe tbody tr th:only-of-type {\n",
       "        vertical-align: middle;\n",
       "    }\n",
       "\n",
       "    .dataframe tbody tr th {\n",
       "        vertical-align: top;\n",
       "    }\n",
       "\n",
       "    .dataframe thead th {\n",
       "        text-align: right;\n",
       "    }\n",
       "</style>\n",
       "<table border=\"1\" class=\"dataframe\">\n",
       "  <thead>\n",
       "    <tr style=\"text-align: right;\">\n",
       "      <th></th>\n",
       "      <th>Date</th>\n",
       "      <th>Time</th>\n",
       "      <th>State</th>\n",
       "      <th>Group</th>\n",
       "      <th>Unit</th>\n",
       "      <th>Sales</th>\n",
       "    </tr>\n",
       "  </thead>\n",
       "  <tbody>\n",
       "    <tr>\n",
       "      <th>0</th>\n",
       "      <td>1-Oct-2020</td>\n",
       "      <td>Morning</td>\n",
       "      <td>WA</td>\n",
       "      <td>Kids</td>\n",
       "      <td>8</td>\n",
       "      <td>20000</td>\n",
       "    </tr>\n",
       "    <tr>\n",
       "      <th>1</th>\n",
       "      <td>1-Oct-2020</td>\n",
       "      <td>Morning</td>\n",
       "      <td>WA</td>\n",
       "      <td>Men</td>\n",
       "      <td>8</td>\n",
       "      <td>20000</td>\n",
       "    </tr>\n",
       "    <tr>\n",
       "      <th>2</th>\n",
       "      <td>1-Oct-2020</td>\n",
       "      <td>Morning</td>\n",
       "      <td>WA</td>\n",
       "      <td>Women</td>\n",
       "      <td>4</td>\n",
       "      <td>10000</td>\n",
       "    </tr>\n",
       "    <tr>\n",
       "      <th>3</th>\n",
       "      <td>1-Oct-2020</td>\n",
       "      <td>Morning</td>\n",
       "      <td>WA</td>\n",
       "      <td>Seniors</td>\n",
       "      <td>15</td>\n",
       "      <td>37500</td>\n",
       "    </tr>\n",
       "    <tr>\n",
       "      <th>4</th>\n",
       "      <td>1-Oct-2020</td>\n",
       "      <td>Afternoon</td>\n",
       "      <td>WA</td>\n",
       "      <td>Kids</td>\n",
       "      <td>3</td>\n",
       "      <td>7500</td>\n",
       "    </tr>\n",
       "    <tr>\n",
       "      <th>...</th>\n",
       "      <td>...</td>\n",
       "      <td>...</td>\n",
       "      <td>...</td>\n",
       "      <td>...</td>\n",
       "      <td>...</td>\n",
       "      <td>...</td>\n",
       "    </tr>\n",
       "    <tr>\n",
       "      <th>7555</th>\n",
       "      <td>30-Dec-2020</td>\n",
       "      <td>Afternoon</td>\n",
       "      <td>TAS</td>\n",
       "      <td>Seniors</td>\n",
       "      <td>14</td>\n",
       "      <td>35000</td>\n",
       "    </tr>\n",
       "    <tr>\n",
       "      <th>7556</th>\n",
       "      <td>30-Dec-2020</td>\n",
       "      <td>Evening</td>\n",
       "      <td>TAS</td>\n",
       "      <td>Kids</td>\n",
       "      <td>15</td>\n",
       "      <td>37500</td>\n",
       "    </tr>\n",
       "    <tr>\n",
       "      <th>7557</th>\n",
       "      <td>30-Dec-2020</td>\n",
       "      <td>Evening</td>\n",
       "      <td>TAS</td>\n",
       "      <td>Men</td>\n",
       "      <td>15</td>\n",
       "      <td>37500</td>\n",
       "    </tr>\n",
       "    <tr>\n",
       "      <th>7558</th>\n",
       "      <td>30-Dec-2020</td>\n",
       "      <td>Evening</td>\n",
       "      <td>TAS</td>\n",
       "      <td>Women</td>\n",
       "      <td>11</td>\n",
       "      <td>27500</td>\n",
       "    </tr>\n",
       "    <tr>\n",
       "      <th>7559</th>\n",
       "      <td>30-Dec-2020</td>\n",
       "      <td>Evening</td>\n",
       "      <td>TAS</td>\n",
       "      <td>Seniors</td>\n",
       "      <td>13</td>\n",
       "      <td>32500</td>\n",
       "    </tr>\n",
       "  </tbody>\n",
       "</table>\n",
       "<p>7560 rows × 6 columns</p>\n",
       "</div>"
      ],
      "text/plain": [
       "             Date        Time State     Group  Unit  Sales\n",
       "0      1-Oct-2020     Morning    WA      Kids     8  20000\n",
       "1      1-Oct-2020     Morning    WA       Men     8  20000\n",
       "2      1-Oct-2020     Morning    WA     Women     4  10000\n",
       "3      1-Oct-2020     Morning    WA   Seniors    15  37500\n",
       "4      1-Oct-2020   Afternoon    WA      Kids     3   7500\n",
       "...           ...         ...   ...       ...   ...    ...\n",
       "7555  30-Dec-2020   Afternoon   TAS   Seniors    14  35000\n",
       "7556  30-Dec-2020     Evening   TAS      Kids    15  37500\n",
       "7557  30-Dec-2020     Evening   TAS       Men    15  37500\n",
       "7558  30-Dec-2020     Evening   TAS     Women    11  27500\n",
       "7559  30-Dec-2020     Evening   TAS   Seniors    13  32500\n",
       "\n",
       "[7560 rows x 6 columns]"
      ]
     },
     "execution_count": 3,
     "metadata": {},
     "output_type": "execute_result"
    }
   ],
   "source": [
    "df= pd.read_csv(\"/kaggle/input/course-end-project-sales-analysis/AusApparalSales4thQrt2020.csv\")\n",
    "df"
   ]
  },
  {
   "cell_type": "markdown",
   "id": "5abdb43c",
   "metadata": {
    "papermill": {
     "duration": 0.014948,
     "end_time": "2024-05-14T10:07:42.249950",
     "exception": false,
     "start_time": "2024-05-14T10:07:42.235002",
     "status": "completed"
    },
    "tags": []
   },
   "source": []
  },
  {
   "cell_type": "code",
   "execution_count": 4,
   "id": "c5c3c547",
   "metadata": {
    "execution": {
     "iopub.execute_input": "2024-05-14T10:07:42.282349Z",
     "iopub.status.busy": "2024-05-14T10:07:42.281367Z",
     "iopub.status.idle": "2024-05-14T10:07:42.291700Z",
     "shell.execute_reply": "2024-05-14T10:07:42.291024Z"
    },
    "papermill": {
     "duration": 0.02827,
     "end_time": "2024-05-14T10:07:42.293477",
     "exception": false,
     "start_time": "2024-05-14T10:07:42.265207",
     "status": "completed"
    },
    "tags": []
   },
   "outputs": [
    {
     "data": {
      "text/html": [
       "<div>\n",
       "<style scoped>\n",
       "    .dataframe tbody tr th:only-of-type {\n",
       "        vertical-align: middle;\n",
       "    }\n",
       "\n",
       "    .dataframe tbody tr th {\n",
       "        vertical-align: top;\n",
       "    }\n",
       "\n",
       "    .dataframe thead th {\n",
       "        text-align: right;\n",
       "    }\n",
       "</style>\n",
       "<table border=\"1\" class=\"dataframe\">\n",
       "  <thead>\n",
       "    <tr style=\"text-align: right;\">\n",
       "      <th></th>\n",
       "      <th>Date</th>\n",
       "      <th>Time</th>\n",
       "      <th>State</th>\n",
       "      <th>Group</th>\n",
       "      <th>Unit</th>\n",
       "      <th>Sales</th>\n",
       "    </tr>\n",
       "  </thead>\n",
       "  <tbody>\n",
       "    <tr>\n",
       "      <th>0</th>\n",
       "      <td>1-Oct-2020</td>\n",
       "      <td>Morning</td>\n",
       "      <td>WA</td>\n",
       "      <td>Kids</td>\n",
       "      <td>8</td>\n",
       "      <td>20000</td>\n",
       "    </tr>\n",
       "    <tr>\n",
       "      <th>1</th>\n",
       "      <td>1-Oct-2020</td>\n",
       "      <td>Morning</td>\n",
       "      <td>WA</td>\n",
       "      <td>Men</td>\n",
       "      <td>8</td>\n",
       "      <td>20000</td>\n",
       "    </tr>\n",
       "    <tr>\n",
       "      <th>2</th>\n",
       "      <td>1-Oct-2020</td>\n",
       "      <td>Morning</td>\n",
       "      <td>WA</td>\n",
       "      <td>Women</td>\n",
       "      <td>4</td>\n",
       "      <td>10000</td>\n",
       "    </tr>\n",
       "    <tr>\n",
       "      <th>3</th>\n",
       "      <td>1-Oct-2020</td>\n",
       "      <td>Morning</td>\n",
       "      <td>WA</td>\n",
       "      <td>Seniors</td>\n",
       "      <td>15</td>\n",
       "      <td>37500</td>\n",
       "    </tr>\n",
       "    <tr>\n",
       "      <th>4</th>\n",
       "      <td>1-Oct-2020</td>\n",
       "      <td>Afternoon</td>\n",
       "      <td>WA</td>\n",
       "      <td>Kids</td>\n",
       "      <td>3</td>\n",
       "      <td>7500</td>\n",
       "    </tr>\n",
       "  </tbody>\n",
       "</table>\n",
       "</div>"
      ],
      "text/plain": [
       "         Date        Time State     Group  Unit  Sales\n",
       "0  1-Oct-2020     Morning    WA      Kids     8  20000\n",
       "1  1-Oct-2020     Morning    WA       Men     8  20000\n",
       "2  1-Oct-2020     Morning    WA     Women     4  10000\n",
       "3  1-Oct-2020     Morning    WA   Seniors    15  37500\n",
       "4  1-Oct-2020   Afternoon    WA      Kids     3   7500"
      ]
     },
     "execution_count": 4,
     "metadata": {},
     "output_type": "execute_result"
    }
   ],
   "source": [
    "df.head()"
   ]
  },
  {
   "cell_type": "code",
   "execution_count": 5,
   "id": "9ae8f6a9",
   "metadata": {
    "execution": {
     "iopub.execute_input": "2024-05-14T10:07:42.325731Z",
     "iopub.status.busy": "2024-05-14T10:07:42.325366Z",
     "iopub.status.idle": "2024-05-14T10:07:42.336343Z",
     "shell.execute_reply": "2024-05-14T10:07:42.335400Z"
    },
    "papermill": {
     "duration": 0.029496,
     "end_time": "2024-05-14T10:07:42.338429",
     "exception": false,
     "start_time": "2024-05-14T10:07:42.308933",
     "status": "completed"
    },
    "tags": []
   },
   "outputs": [
    {
     "data": {
      "text/html": [
       "<div>\n",
       "<style scoped>\n",
       "    .dataframe tbody tr th:only-of-type {\n",
       "        vertical-align: middle;\n",
       "    }\n",
       "\n",
       "    .dataframe tbody tr th {\n",
       "        vertical-align: top;\n",
       "    }\n",
       "\n",
       "    .dataframe thead th {\n",
       "        text-align: right;\n",
       "    }\n",
       "</style>\n",
       "<table border=\"1\" class=\"dataframe\">\n",
       "  <thead>\n",
       "    <tr style=\"text-align: right;\">\n",
       "      <th></th>\n",
       "      <th>Date</th>\n",
       "      <th>Time</th>\n",
       "      <th>State</th>\n",
       "      <th>Group</th>\n",
       "      <th>Unit</th>\n",
       "      <th>Sales</th>\n",
       "    </tr>\n",
       "  </thead>\n",
       "  <tbody>\n",
       "    <tr>\n",
       "      <th>7555</th>\n",
       "      <td>30-Dec-2020</td>\n",
       "      <td>Afternoon</td>\n",
       "      <td>TAS</td>\n",
       "      <td>Seniors</td>\n",
       "      <td>14</td>\n",
       "      <td>35000</td>\n",
       "    </tr>\n",
       "    <tr>\n",
       "      <th>7556</th>\n",
       "      <td>30-Dec-2020</td>\n",
       "      <td>Evening</td>\n",
       "      <td>TAS</td>\n",
       "      <td>Kids</td>\n",
       "      <td>15</td>\n",
       "      <td>37500</td>\n",
       "    </tr>\n",
       "    <tr>\n",
       "      <th>7557</th>\n",
       "      <td>30-Dec-2020</td>\n",
       "      <td>Evening</td>\n",
       "      <td>TAS</td>\n",
       "      <td>Men</td>\n",
       "      <td>15</td>\n",
       "      <td>37500</td>\n",
       "    </tr>\n",
       "    <tr>\n",
       "      <th>7558</th>\n",
       "      <td>30-Dec-2020</td>\n",
       "      <td>Evening</td>\n",
       "      <td>TAS</td>\n",
       "      <td>Women</td>\n",
       "      <td>11</td>\n",
       "      <td>27500</td>\n",
       "    </tr>\n",
       "    <tr>\n",
       "      <th>7559</th>\n",
       "      <td>30-Dec-2020</td>\n",
       "      <td>Evening</td>\n",
       "      <td>TAS</td>\n",
       "      <td>Seniors</td>\n",
       "      <td>13</td>\n",
       "      <td>32500</td>\n",
       "    </tr>\n",
       "  </tbody>\n",
       "</table>\n",
       "</div>"
      ],
      "text/plain": [
       "             Date        Time State     Group  Unit  Sales\n",
       "7555  30-Dec-2020   Afternoon   TAS   Seniors    14  35000\n",
       "7556  30-Dec-2020     Evening   TAS      Kids    15  37500\n",
       "7557  30-Dec-2020     Evening   TAS       Men    15  37500\n",
       "7558  30-Dec-2020     Evening   TAS     Women    11  27500\n",
       "7559  30-Dec-2020     Evening   TAS   Seniors    13  32500"
      ]
     },
     "execution_count": 5,
     "metadata": {},
     "output_type": "execute_result"
    }
   ],
   "source": [
    "df.tail()"
   ]
  },
  {
   "cell_type": "code",
   "execution_count": 6,
   "id": "c1e79af8",
   "metadata": {
    "execution": {
     "iopub.execute_input": "2024-05-14T10:07:42.372427Z",
     "iopub.status.busy": "2024-05-14T10:07:42.371491Z",
     "iopub.status.idle": "2024-05-14T10:07:42.393233Z",
     "shell.execute_reply": "2024-05-14T10:07:42.392362Z"
    },
    "papermill": {
     "duration": 0.040757,
     "end_time": "2024-05-14T10:07:42.395409",
     "exception": false,
     "start_time": "2024-05-14T10:07:42.354652",
     "status": "completed"
    },
    "tags": []
   },
   "outputs": [
    {
     "name": "stdout",
     "output_type": "stream",
     "text": [
      "<class 'pandas.core.frame.DataFrame'>\n",
      "RangeIndex: 7560 entries, 0 to 7559\n",
      "Data columns (total 6 columns):\n",
      " #   Column  Non-Null Count  Dtype \n",
      "---  ------  --------------  ----- \n",
      " 0   Date    7560 non-null   object\n",
      " 1   Time    7560 non-null   object\n",
      " 2   State   7560 non-null   object\n",
      " 3   Group   7560 non-null   object\n",
      " 4   Unit    7560 non-null   int64 \n",
      " 5   Sales   7560 non-null   int64 \n",
      "dtypes: int64(2), object(4)\n",
      "memory usage: 354.5+ KB\n"
     ]
    }
   ],
   "source": [
    "df.info()"
   ]
  },
  {
   "cell_type": "code",
   "execution_count": 7,
   "id": "cc56a7e7",
   "metadata": {
    "execution": {
     "iopub.execute_input": "2024-05-14T10:07:42.429935Z",
     "iopub.status.busy": "2024-05-14T10:07:42.429347Z",
     "iopub.status.idle": "2024-05-14T10:07:42.448530Z",
     "shell.execute_reply": "2024-05-14T10:07:42.447460Z"
    },
    "papermill": {
     "duration": 0.038846,
     "end_time": "2024-05-14T10:07:42.450602",
     "exception": false,
     "start_time": "2024-05-14T10:07:42.411756",
     "status": "completed"
    },
    "tags": []
   },
   "outputs": [
    {
     "data": {
      "text/html": [
       "<div>\n",
       "<style scoped>\n",
       "    .dataframe tbody tr th:only-of-type {\n",
       "        vertical-align: middle;\n",
       "    }\n",
       "\n",
       "    .dataframe tbody tr th {\n",
       "        vertical-align: top;\n",
       "    }\n",
       "\n",
       "    .dataframe thead th {\n",
       "        text-align: right;\n",
       "    }\n",
       "</style>\n",
       "<table border=\"1\" class=\"dataframe\">\n",
       "  <thead>\n",
       "    <tr style=\"text-align: right;\">\n",
       "      <th></th>\n",
       "      <th>Unit</th>\n",
       "      <th>Sales</th>\n",
       "    </tr>\n",
       "  </thead>\n",
       "  <tbody>\n",
       "    <tr>\n",
       "      <th>count</th>\n",
       "      <td>7560.000000</td>\n",
       "      <td>7560.000000</td>\n",
       "    </tr>\n",
       "    <tr>\n",
       "      <th>mean</th>\n",
       "      <td>18.005423</td>\n",
       "      <td>45013.558201</td>\n",
       "    </tr>\n",
       "    <tr>\n",
       "      <th>std</th>\n",
       "      <td>12.901403</td>\n",
       "      <td>32253.506944</td>\n",
       "    </tr>\n",
       "    <tr>\n",
       "      <th>min</th>\n",
       "      <td>2.000000</td>\n",
       "      <td>5000.000000</td>\n",
       "    </tr>\n",
       "    <tr>\n",
       "      <th>25%</th>\n",
       "      <td>8.000000</td>\n",
       "      <td>20000.000000</td>\n",
       "    </tr>\n",
       "    <tr>\n",
       "      <th>50%</th>\n",
       "      <td>14.000000</td>\n",
       "      <td>35000.000000</td>\n",
       "    </tr>\n",
       "    <tr>\n",
       "      <th>75%</th>\n",
       "      <td>26.000000</td>\n",
       "      <td>65000.000000</td>\n",
       "    </tr>\n",
       "    <tr>\n",
       "      <th>max</th>\n",
       "      <td>65.000000</td>\n",
       "      <td>162500.000000</td>\n",
       "    </tr>\n",
       "  </tbody>\n",
       "</table>\n",
       "</div>"
      ],
      "text/plain": [
       "              Unit          Sales\n",
       "count  7560.000000    7560.000000\n",
       "mean     18.005423   45013.558201\n",
       "std      12.901403   32253.506944\n",
       "min       2.000000    5000.000000\n",
       "25%       8.000000   20000.000000\n",
       "50%      14.000000   35000.000000\n",
       "75%      26.000000   65000.000000\n",
       "max      65.000000  162500.000000"
      ]
     },
     "execution_count": 7,
     "metadata": {},
     "output_type": "execute_result"
    }
   ],
   "source": [
    "df.describe()"
   ]
  },
  {
   "cell_type": "code",
   "execution_count": 8,
   "id": "79df57f0",
   "metadata": {
    "execution": {
     "iopub.execute_input": "2024-05-14T10:07:42.485248Z",
     "iopub.status.busy": "2024-05-14T10:07:42.484621Z",
     "iopub.status.idle": "2024-05-14T10:07:42.499488Z",
     "shell.execute_reply": "2024-05-14T10:07:42.498431Z"
    },
    "papermill": {
     "duration": 0.035144,
     "end_time": "2024-05-14T10:07:42.501968",
     "exception": false,
     "start_time": "2024-05-14T10:07:42.466824",
     "status": "completed"
    },
    "tags": []
   },
   "outputs": [
    {
     "data": {
      "text/html": [
       "<div>\n",
       "<style scoped>\n",
       "    .dataframe tbody tr th:only-of-type {\n",
       "        vertical-align: middle;\n",
       "    }\n",
       "\n",
       "    .dataframe tbody tr th {\n",
       "        vertical-align: top;\n",
       "    }\n",
       "\n",
       "    .dataframe thead th {\n",
       "        text-align: right;\n",
       "    }\n",
       "</style>\n",
       "<table border=\"1\" class=\"dataframe\">\n",
       "  <thead>\n",
       "    <tr style=\"text-align: right;\">\n",
       "      <th></th>\n",
       "      <th>Date</th>\n",
       "      <th>Time</th>\n",
       "      <th>State</th>\n",
       "      <th>Group</th>\n",
       "      <th>Unit</th>\n",
       "      <th>Sales</th>\n",
       "    </tr>\n",
       "  </thead>\n",
       "  <tbody>\n",
       "    <tr>\n",
       "      <th>0</th>\n",
       "      <td>False</td>\n",
       "      <td>False</td>\n",
       "      <td>False</td>\n",
       "      <td>False</td>\n",
       "      <td>False</td>\n",
       "      <td>False</td>\n",
       "    </tr>\n",
       "    <tr>\n",
       "      <th>1</th>\n",
       "      <td>False</td>\n",
       "      <td>False</td>\n",
       "      <td>False</td>\n",
       "      <td>False</td>\n",
       "      <td>False</td>\n",
       "      <td>False</td>\n",
       "    </tr>\n",
       "    <tr>\n",
       "      <th>2</th>\n",
       "      <td>False</td>\n",
       "      <td>False</td>\n",
       "      <td>False</td>\n",
       "      <td>False</td>\n",
       "      <td>False</td>\n",
       "      <td>False</td>\n",
       "    </tr>\n",
       "    <tr>\n",
       "      <th>3</th>\n",
       "      <td>False</td>\n",
       "      <td>False</td>\n",
       "      <td>False</td>\n",
       "      <td>False</td>\n",
       "      <td>False</td>\n",
       "      <td>False</td>\n",
       "    </tr>\n",
       "    <tr>\n",
       "      <th>4</th>\n",
       "      <td>False</td>\n",
       "      <td>False</td>\n",
       "      <td>False</td>\n",
       "      <td>False</td>\n",
       "      <td>False</td>\n",
       "      <td>False</td>\n",
       "    </tr>\n",
       "    <tr>\n",
       "      <th>...</th>\n",
       "      <td>...</td>\n",
       "      <td>...</td>\n",
       "      <td>...</td>\n",
       "      <td>...</td>\n",
       "      <td>...</td>\n",
       "      <td>...</td>\n",
       "    </tr>\n",
       "    <tr>\n",
       "      <th>7555</th>\n",
       "      <td>False</td>\n",
       "      <td>False</td>\n",
       "      <td>False</td>\n",
       "      <td>False</td>\n",
       "      <td>False</td>\n",
       "      <td>False</td>\n",
       "    </tr>\n",
       "    <tr>\n",
       "      <th>7556</th>\n",
       "      <td>False</td>\n",
       "      <td>False</td>\n",
       "      <td>False</td>\n",
       "      <td>False</td>\n",
       "      <td>False</td>\n",
       "      <td>False</td>\n",
       "    </tr>\n",
       "    <tr>\n",
       "      <th>7557</th>\n",
       "      <td>False</td>\n",
       "      <td>False</td>\n",
       "      <td>False</td>\n",
       "      <td>False</td>\n",
       "      <td>False</td>\n",
       "      <td>False</td>\n",
       "    </tr>\n",
       "    <tr>\n",
       "      <th>7558</th>\n",
       "      <td>False</td>\n",
       "      <td>False</td>\n",
       "      <td>False</td>\n",
       "      <td>False</td>\n",
       "      <td>False</td>\n",
       "      <td>False</td>\n",
       "    </tr>\n",
       "    <tr>\n",
       "      <th>7559</th>\n",
       "      <td>False</td>\n",
       "      <td>False</td>\n",
       "      <td>False</td>\n",
       "      <td>False</td>\n",
       "      <td>False</td>\n",
       "      <td>False</td>\n",
       "    </tr>\n",
       "  </tbody>\n",
       "</table>\n",
       "<p>7560 rows × 6 columns</p>\n",
       "</div>"
      ],
      "text/plain": [
       "       Date   Time  State  Group   Unit  Sales\n",
       "0     False  False  False  False  False  False\n",
       "1     False  False  False  False  False  False\n",
       "2     False  False  False  False  False  False\n",
       "3     False  False  False  False  False  False\n",
       "4     False  False  False  False  False  False\n",
       "...     ...    ...    ...    ...    ...    ...\n",
       "7555  False  False  False  False  False  False\n",
       "7556  False  False  False  False  False  False\n",
       "7557  False  False  False  False  False  False\n",
       "7558  False  False  False  False  False  False\n",
       "7559  False  False  False  False  False  False\n",
       "\n",
       "[7560 rows x 6 columns]"
      ]
     },
     "execution_count": 8,
     "metadata": {},
     "output_type": "execute_result"
    }
   ],
   "source": [
    "df.isna()"
   ]
  },
  {
   "cell_type": "code",
   "execution_count": 9,
   "id": "66b72673",
   "metadata": {
    "execution": {
     "iopub.execute_input": "2024-05-14T10:07:42.537095Z",
     "iopub.status.busy": "2024-05-14T10:07:42.536724Z",
     "iopub.status.idle": "2024-05-14T10:07:42.554649Z",
     "shell.execute_reply": "2024-05-14T10:07:42.553625Z"
    },
    "papermill": {
     "duration": 0.038494,
     "end_time": "2024-05-14T10:07:42.557096",
     "exception": false,
     "start_time": "2024-05-14T10:07:42.518602",
     "status": "completed"
    },
    "tags": []
   },
   "outputs": [
    {
     "data": {
      "text/html": [
       "<div>\n",
       "<style scoped>\n",
       "    .dataframe tbody tr th:only-of-type {\n",
       "        vertical-align: middle;\n",
       "    }\n",
       "\n",
       "    .dataframe tbody tr th {\n",
       "        vertical-align: top;\n",
       "    }\n",
       "\n",
       "    .dataframe thead th {\n",
       "        text-align: right;\n",
       "    }\n",
       "</style>\n",
       "<table border=\"1\" class=\"dataframe\">\n",
       "  <thead>\n",
       "    <tr style=\"text-align: right;\">\n",
       "      <th></th>\n",
       "      <th>Date</th>\n",
       "      <th>Time</th>\n",
       "      <th>State</th>\n",
       "      <th>Group</th>\n",
       "      <th>Unit</th>\n",
       "      <th>Sales</th>\n",
       "    </tr>\n",
       "  </thead>\n",
       "  <tbody>\n",
       "    <tr>\n",
       "      <th>0</th>\n",
       "      <td>NaN</td>\n",
       "      <td>NaN</td>\n",
       "      <td>NaN</td>\n",
       "      <td>NaN</td>\n",
       "      <td>NaN</td>\n",
       "      <td>NaN</td>\n",
       "    </tr>\n",
       "    <tr>\n",
       "      <th>1</th>\n",
       "      <td>NaN</td>\n",
       "      <td>NaN</td>\n",
       "      <td>NaN</td>\n",
       "      <td>NaN</td>\n",
       "      <td>NaN</td>\n",
       "      <td>NaN</td>\n",
       "    </tr>\n",
       "    <tr>\n",
       "      <th>2</th>\n",
       "      <td>NaN</td>\n",
       "      <td>NaN</td>\n",
       "      <td>NaN</td>\n",
       "      <td>NaN</td>\n",
       "      <td>NaN</td>\n",
       "      <td>NaN</td>\n",
       "    </tr>\n",
       "    <tr>\n",
       "      <th>3</th>\n",
       "      <td>NaN</td>\n",
       "      <td>NaN</td>\n",
       "      <td>NaN</td>\n",
       "      <td>NaN</td>\n",
       "      <td>NaN</td>\n",
       "      <td>NaN</td>\n",
       "    </tr>\n",
       "    <tr>\n",
       "      <th>4</th>\n",
       "      <td>NaN</td>\n",
       "      <td>NaN</td>\n",
       "      <td>NaN</td>\n",
       "      <td>NaN</td>\n",
       "      <td>NaN</td>\n",
       "      <td>NaN</td>\n",
       "    </tr>\n",
       "    <tr>\n",
       "      <th>...</th>\n",
       "      <td>...</td>\n",
       "      <td>...</td>\n",
       "      <td>...</td>\n",
       "      <td>...</td>\n",
       "      <td>...</td>\n",
       "      <td>...</td>\n",
       "    </tr>\n",
       "    <tr>\n",
       "      <th>7555</th>\n",
       "      <td>NaN</td>\n",
       "      <td>NaN</td>\n",
       "      <td>NaN</td>\n",
       "      <td>NaN</td>\n",
       "      <td>NaN</td>\n",
       "      <td>NaN</td>\n",
       "    </tr>\n",
       "    <tr>\n",
       "      <th>7556</th>\n",
       "      <td>NaN</td>\n",
       "      <td>NaN</td>\n",
       "      <td>NaN</td>\n",
       "      <td>NaN</td>\n",
       "      <td>NaN</td>\n",
       "      <td>NaN</td>\n",
       "    </tr>\n",
       "    <tr>\n",
       "      <th>7557</th>\n",
       "      <td>NaN</td>\n",
       "      <td>NaN</td>\n",
       "      <td>NaN</td>\n",
       "      <td>NaN</td>\n",
       "      <td>NaN</td>\n",
       "      <td>NaN</td>\n",
       "    </tr>\n",
       "    <tr>\n",
       "      <th>7558</th>\n",
       "      <td>NaN</td>\n",
       "      <td>NaN</td>\n",
       "      <td>NaN</td>\n",
       "      <td>NaN</td>\n",
       "      <td>NaN</td>\n",
       "      <td>NaN</td>\n",
       "    </tr>\n",
       "    <tr>\n",
       "      <th>7559</th>\n",
       "      <td>NaN</td>\n",
       "      <td>NaN</td>\n",
       "      <td>NaN</td>\n",
       "      <td>NaN</td>\n",
       "      <td>NaN</td>\n",
       "      <td>NaN</td>\n",
       "    </tr>\n",
       "  </tbody>\n",
       "</table>\n",
       "<p>7560 rows × 6 columns</p>\n",
       "</div>"
      ],
      "text/plain": [
       "     Date Time State Group  Unit  Sales\n",
       "0     NaN  NaN   NaN   NaN   NaN    NaN\n",
       "1     NaN  NaN   NaN   NaN   NaN    NaN\n",
       "2     NaN  NaN   NaN   NaN   NaN    NaN\n",
       "3     NaN  NaN   NaN   NaN   NaN    NaN\n",
       "4     NaN  NaN   NaN   NaN   NaN    NaN\n",
       "...   ...  ...   ...   ...   ...    ...\n",
       "7555  NaN  NaN   NaN   NaN   NaN    NaN\n",
       "7556  NaN  NaN   NaN   NaN   NaN    NaN\n",
       "7557  NaN  NaN   NaN   NaN   NaN    NaN\n",
       "7558  NaN  NaN   NaN   NaN   NaN    NaN\n",
       "7559  NaN  NaN   NaN   NaN   NaN    NaN\n",
       "\n",
       "[7560 rows x 6 columns]"
      ]
     },
     "execution_count": 9,
     "metadata": {},
     "output_type": "execute_result"
    }
   ],
   "source": [
    "df[df.isna()==True]"
   ]
  },
  {
   "cell_type": "code",
   "execution_count": 10,
   "id": "23fdeb71",
   "metadata": {
    "execution": {
     "iopub.execute_input": "2024-05-14T10:07:42.593359Z",
     "iopub.status.busy": "2024-05-14T10:07:42.592734Z",
     "iopub.status.idle": "2024-05-14T10:07:42.608588Z",
     "shell.execute_reply": "2024-05-14T10:07:42.607621Z"
    },
    "papermill": {
     "duration": 0.036441,
     "end_time": "2024-05-14T10:07:42.610740",
     "exception": false,
     "start_time": "2024-05-14T10:07:42.574299",
     "status": "completed"
    },
    "tags": []
   },
   "outputs": [
    {
     "data": {
      "text/html": [
       "<div>\n",
       "<style scoped>\n",
       "    .dataframe tbody tr th:only-of-type {\n",
       "        vertical-align: middle;\n",
       "    }\n",
       "\n",
       "    .dataframe tbody tr th {\n",
       "        vertical-align: top;\n",
       "    }\n",
       "\n",
       "    .dataframe thead th {\n",
       "        text-align: right;\n",
       "    }\n",
       "</style>\n",
       "<table border=\"1\" class=\"dataframe\">\n",
       "  <thead>\n",
       "    <tr style=\"text-align: right;\">\n",
       "      <th></th>\n",
       "      <th>Date</th>\n",
       "      <th>Time</th>\n",
       "      <th>State</th>\n",
       "      <th>Group</th>\n",
       "      <th>Unit</th>\n",
       "      <th>Sales</th>\n",
       "    </tr>\n",
       "  </thead>\n",
       "  <tbody>\n",
       "    <tr>\n",
       "      <th>0</th>\n",
       "      <td>1-Oct-2020</td>\n",
       "      <td>Morning</td>\n",
       "      <td>WA</td>\n",
       "      <td>Kids</td>\n",
       "      <td>8</td>\n",
       "      <td>20000</td>\n",
       "    </tr>\n",
       "    <tr>\n",
       "      <th>1</th>\n",
       "      <td>1-Oct-2020</td>\n",
       "      <td>Morning</td>\n",
       "      <td>WA</td>\n",
       "      <td>Men</td>\n",
       "      <td>8</td>\n",
       "      <td>20000</td>\n",
       "    </tr>\n",
       "    <tr>\n",
       "      <th>2</th>\n",
       "      <td>1-Oct-2020</td>\n",
       "      <td>Morning</td>\n",
       "      <td>WA</td>\n",
       "      <td>Women</td>\n",
       "      <td>4</td>\n",
       "      <td>10000</td>\n",
       "    </tr>\n",
       "    <tr>\n",
       "      <th>3</th>\n",
       "      <td>1-Oct-2020</td>\n",
       "      <td>Morning</td>\n",
       "      <td>WA</td>\n",
       "      <td>Seniors</td>\n",
       "      <td>15</td>\n",
       "      <td>37500</td>\n",
       "    </tr>\n",
       "    <tr>\n",
       "      <th>4</th>\n",
       "      <td>1-Oct-2020</td>\n",
       "      <td>Afternoon</td>\n",
       "      <td>WA</td>\n",
       "      <td>Kids</td>\n",
       "      <td>3</td>\n",
       "      <td>7500</td>\n",
       "    </tr>\n",
       "    <tr>\n",
       "      <th>...</th>\n",
       "      <td>...</td>\n",
       "      <td>...</td>\n",
       "      <td>...</td>\n",
       "      <td>...</td>\n",
       "      <td>...</td>\n",
       "      <td>...</td>\n",
       "    </tr>\n",
       "    <tr>\n",
       "      <th>7555</th>\n",
       "      <td>30-Dec-2020</td>\n",
       "      <td>Afternoon</td>\n",
       "      <td>TAS</td>\n",
       "      <td>Seniors</td>\n",
       "      <td>14</td>\n",
       "      <td>35000</td>\n",
       "    </tr>\n",
       "    <tr>\n",
       "      <th>7556</th>\n",
       "      <td>30-Dec-2020</td>\n",
       "      <td>Evening</td>\n",
       "      <td>TAS</td>\n",
       "      <td>Kids</td>\n",
       "      <td>15</td>\n",
       "      <td>37500</td>\n",
       "    </tr>\n",
       "    <tr>\n",
       "      <th>7557</th>\n",
       "      <td>30-Dec-2020</td>\n",
       "      <td>Evening</td>\n",
       "      <td>TAS</td>\n",
       "      <td>Men</td>\n",
       "      <td>15</td>\n",
       "      <td>37500</td>\n",
       "    </tr>\n",
       "    <tr>\n",
       "      <th>7558</th>\n",
       "      <td>30-Dec-2020</td>\n",
       "      <td>Evening</td>\n",
       "      <td>TAS</td>\n",
       "      <td>Women</td>\n",
       "      <td>11</td>\n",
       "      <td>27500</td>\n",
       "    </tr>\n",
       "    <tr>\n",
       "      <th>7559</th>\n",
       "      <td>30-Dec-2020</td>\n",
       "      <td>Evening</td>\n",
       "      <td>TAS</td>\n",
       "      <td>Seniors</td>\n",
       "      <td>13</td>\n",
       "      <td>32500</td>\n",
       "    </tr>\n",
       "  </tbody>\n",
       "</table>\n",
       "<p>7560 rows × 6 columns</p>\n",
       "</div>"
      ],
      "text/plain": [
       "             Date        Time State     Group  Unit  Sales\n",
       "0      1-Oct-2020     Morning    WA      Kids     8  20000\n",
       "1      1-Oct-2020     Morning    WA       Men     8  20000\n",
       "2      1-Oct-2020     Morning    WA     Women     4  10000\n",
       "3      1-Oct-2020     Morning    WA   Seniors    15  37500\n",
       "4      1-Oct-2020   Afternoon    WA      Kids     3   7500\n",
       "...           ...         ...   ...       ...   ...    ...\n",
       "7555  30-Dec-2020   Afternoon   TAS   Seniors    14  35000\n",
       "7556  30-Dec-2020     Evening   TAS      Kids    15  37500\n",
       "7557  30-Dec-2020     Evening   TAS       Men    15  37500\n",
       "7558  30-Dec-2020     Evening   TAS     Women    11  27500\n",
       "7559  30-Dec-2020     Evening   TAS   Seniors    13  32500\n",
       "\n",
       "[7560 rows x 6 columns]"
      ]
     },
     "execution_count": 10,
     "metadata": {},
     "output_type": "execute_result"
    }
   ],
   "source": [
    "df[df.isna()==False]"
   ]
  },
  {
   "cell_type": "code",
   "execution_count": 11,
   "id": "e76e1152",
   "metadata": {
    "execution": {
     "iopub.execute_input": "2024-05-14T10:07:42.647564Z",
     "iopub.status.busy": "2024-05-14T10:07:42.647193Z",
     "iopub.status.idle": "2024-05-14T10:07:42.655682Z",
     "shell.execute_reply": "2024-05-14T10:07:42.654951Z"
    },
    "papermill": {
     "duration": 0.029287,
     "end_time": "2024-05-14T10:07:42.657532",
     "exception": false,
     "start_time": "2024-05-14T10:07:42.628245",
     "status": "completed"
    },
    "tags": []
   },
   "outputs": [
    {
     "data": {
      "text/plain": [
       "Date     0\n",
       "Time     0\n",
       "State    0\n",
       "Group    0\n",
       "Unit     0\n",
       "Sales    0\n",
       "dtype: int64"
      ]
     },
     "execution_count": 11,
     "metadata": {},
     "output_type": "execute_result"
    }
   ],
   "source": [
    "df.isna().sum()"
   ]
  },
  {
   "cell_type": "code",
   "execution_count": 12,
   "id": "ae122c82",
   "metadata": {
    "execution": {
     "iopub.execute_input": "2024-05-14T10:07:42.694919Z",
     "iopub.status.busy": "2024-05-14T10:07:42.694513Z",
     "iopub.status.idle": "2024-05-14T10:07:42.704721Z",
     "shell.execute_reply": "2024-05-14T10:07:42.703481Z"
    },
    "papermill": {
     "duration": 0.031628,
     "end_time": "2024-05-14T10:07:42.707039",
     "exception": false,
     "start_time": "2024-05-14T10:07:42.675411",
     "status": "completed"
    },
    "tags": []
   },
   "outputs": [
    {
     "data": {
      "text/plain": [
       "Date     0\n",
       "Time     0\n",
       "State    0\n",
       "Group    0\n",
       "Unit     0\n",
       "Sales    0\n",
       "dtype: int64"
      ]
     },
     "execution_count": 12,
     "metadata": {},
     "output_type": "execute_result"
    }
   ],
   "source": [
    "df.isnull().sum()"
   ]
  },
  {
   "cell_type": "code",
   "execution_count": 13,
   "id": "0435dc56",
   "metadata": {
    "execution": {
     "iopub.execute_input": "2024-05-14T10:07:42.744256Z",
     "iopub.status.busy": "2024-05-14T10:07:42.743849Z",
     "iopub.status.idle": "2024-05-14T10:07:42.753621Z",
     "shell.execute_reply": "2024-05-14T10:07:42.752620Z"
    },
    "papermill": {
     "duration": 0.030846,
     "end_time": "2024-05-14T10:07:42.755824",
     "exception": false,
     "start_time": "2024-05-14T10:07:42.724978",
     "status": "completed"
    },
    "tags": []
   },
   "outputs": [
    {
     "data": {
      "text/plain": [
       "Date     7560\n",
       "Time     7560\n",
       "State    7560\n",
       "Group    7560\n",
       "Unit     7560\n",
       "Sales    7560\n",
       "dtype: int64"
      ]
     },
     "execution_count": 13,
     "metadata": {},
     "output_type": "execute_result"
    }
   ],
   "source": [
    "df.notna().sum()"
   ]
  },
  {
   "cell_type": "code",
   "execution_count": 14,
   "id": "344bfa93",
   "metadata": {
    "execution": {
     "iopub.execute_input": "2024-05-14T10:07:42.792794Z",
     "iopub.status.busy": "2024-05-14T10:07:42.792428Z",
     "iopub.status.idle": "2024-05-14T10:07:42.803393Z",
     "shell.execute_reply": "2024-05-14T10:07:42.802698Z"
    },
    "papermill": {
     "duration": 0.03149,
     "end_time": "2024-05-14T10:07:42.805296",
     "exception": false,
     "start_time": "2024-05-14T10:07:42.773806",
     "status": "completed"
    },
    "tags": []
   },
   "outputs": [
    {
     "name": "stdout",
     "output_type": "stream",
     "text": [
      "<class 'pandas.core.frame.DataFrame'>\n",
      "RangeIndex: 7560 entries, 0 to 7559\n",
      "Data columns (total 6 columns):\n",
      " #   Column  Non-Null Count  Dtype \n",
      "---  ------  --------------  ----- \n",
      " 0   Date    7560 non-null   object\n",
      " 1   Time    7560 non-null   object\n",
      " 2   State   7560 non-null   object\n",
      " 3   Group   7560 non-null   object\n",
      " 4   Unit    7560 non-null   int64 \n",
      " 5   Sales   7560 non-null   int64 \n",
      "dtypes: int64(2), object(4)\n",
      "memory usage: 354.5+ KB\n"
     ]
    }
   ],
   "source": [
    "df.info()"
   ]
  },
  {
   "cell_type": "code",
   "execution_count": 15,
   "id": "cbd232e0",
   "metadata": {
    "execution": {
     "iopub.execute_input": "2024-05-14T10:07:42.898078Z",
     "iopub.status.busy": "2024-05-14T10:07:42.897683Z",
     "iopub.status.idle": "2024-05-14T10:07:42.913518Z",
     "shell.execute_reply": "2024-05-14T10:07:42.912546Z"
    },
    "papermill": {
     "duration": 0.03663,
     "end_time": "2024-05-14T10:07:42.915647",
     "exception": false,
     "start_time": "2024-05-14T10:07:42.879017",
     "status": "completed"
    },
    "tags": []
   },
   "outputs": [
    {
     "data": {
      "text/html": [
       "<div>\n",
       "<style scoped>\n",
       "    .dataframe tbody tr th:only-of-type {\n",
       "        vertical-align: middle;\n",
       "    }\n",
       "\n",
       "    .dataframe tbody tr th {\n",
       "        vertical-align: top;\n",
       "    }\n",
       "\n",
       "    .dataframe thead th {\n",
       "        text-align: right;\n",
       "    }\n",
       "</style>\n",
       "<table border=\"1\" class=\"dataframe\">\n",
       "  <thead>\n",
       "    <tr style=\"text-align: right;\">\n",
       "      <th></th>\n",
       "      <th>Unit</th>\n",
       "      <th>Sales</th>\n",
       "    </tr>\n",
       "  </thead>\n",
       "  <tbody>\n",
       "    <tr>\n",
       "      <th>count</th>\n",
       "      <td>7560.000000</td>\n",
       "      <td>7560.000000</td>\n",
       "    </tr>\n",
       "    <tr>\n",
       "      <th>mean</th>\n",
       "      <td>18.005423</td>\n",
       "      <td>45013.558201</td>\n",
       "    </tr>\n",
       "    <tr>\n",
       "      <th>std</th>\n",
       "      <td>12.901403</td>\n",
       "      <td>32253.506944</td>\n",
       "    </tr>\n",
       "    <tr>\n",
       "      <th>min</th>\n",
       "      <td>2.000000</td>\n",
       "      <td>5000.000000</td>\n",
       "    </tr>\n",
       "    <tr>\n",
       "      <th>10%</th>\n",
       "      <td>5.000000</td>\n",
       "      <td>12500.000000</td>\n",
       "    </tr>\n",
       "    <tr>\n",
       "      <th>20%</th>\n",
       "      <td>7.000000</td>\n",
       "      <td>17500.000000</td>\n",
       "    </tr>\n",
       "    <tr>\n",
       "      <th>30%</th>\n",
       "      <td>9.000000</td>\n",
       "      <td>22500.000000</td>\n",
       "    </tr>\n",
       "    <tr>\n",
       "      <th>50%</th>\n",
       "      <td>14.000000</td>\n",
       "      <td>35000.000000</td>\n",
       "    </tr>\n",
       "    <tr>\n",
       "      <th>max</th>\n",
       "      <td>65.000000</td>\n",
       "      <td>162500.000000</td>\n",
       "    </tr>\n",
       "  </tbody>\n",
       "</table>\n",
       "</div>"
      ],
      "text/plain": [
       "              Unit          Sales\n",
       "count  7560.000000    7560.000000\n",
       "mean     18.005423   45013.558201\n",
       "std      12.901403   32253.506944\n",
       "min       2.000000    5000.000000\n",
       "10%       5.000000   12500.000000\n",
       "20%       7.000000   17500.000000\n",
       "30%       9.000000   22500.000000\n",
       "50%      14.000000   35000.000000\n",
       "max      65.000000  162500.000000"
      ]
     },
     "execution_count": 15,
     "metadata": {},
     "output_type": "execute_result"
    }
   ],
   "source": [
    "df.describe(percentiles=[.1,.2,.3])"
   ]
  },
  {
   "cell_type": "code",
   "execution_count": 16,
   "id": "f8ade30d",
   "metadata": {
    "execution": {
     "iopub.execute_input": "2024-05-14T10:07:42.954065Z",
     "iopub.status.busy": "2024-05-14T10:07:42.953657Z",
     "iopub.status.idle": "2024-05-14T10:07:42.961155Z",
     "shell.execute_reply": "2024-05-14T10:07:42.960295Z"
    },
    "papermill": {
     "duration": 0.028656,
     "end_time": "2024-05-14T10:07:42.963063",
     "exception": false,
     "start_time": "2024-05-14T10:07:42.934407",
     "status": "completed"
    },
    "tags": []
   },
   "outputs": [
    {
     "data": {
      "text/plain": [
       "0        1-Oct-2020\n",
       "1        1-Oct-2020\n",
       "2        1-Oct-2020\n",
       "3        1-Oct-2020\n",
       "4        1-Oct-2020\n",
       "           ...     \n",
       "7555    30-Dec-2020\n",
       "7556    30-Dec-2020\n",
       "7557    30-Dec-2020\n",
       "7558    30-Dec-2020\n",
       "7559    30-Dec-2020\n",
       "Name: Date, Length: 7560, dtype: object"
      ]
     },
     "execution_count": 16,
     "metadata": {},
     "output_type": "execute_result"
    }
   ],
   "source": [
    "df[\"Date\"]"
   ]
  },
  {
   "cell_type": "code",
   "execution_count": 17,
   "id": "493fedaa",
   "metadata": {
    "execution": {
     "iopub.execute_input": "2024-05-14T10:07:43.000841Z",
     "iopub.status.busy": "2024-05-14T10:07:43.000406Z",
     "iopub.status.idle": "2024-05-14T10:07:43.014165Z",
     "shell.execute_reply": "2024-05-14T10:07:43.013133Z"
    },
    "papermill": {
     "duration": 0.035248,
     "end_time": "2024-05-14T10:07:43.016492",
     "exception": false,
     "start_time": "2024-05-14T10:07:42.981244",
     "status": "completed"
    },
    "tags": []
   },
   "outputs": [
    {
     "data": {
      "text/html": [
       "<div>\n",
       "<style scoped>\n",
       "    .dataframe tbody tr th:only-of-type {\n",
       "        vertical-align: middle;\n",
       "    }\n",
       "\n",
       "    .dataframe tbody tr th {\n",
       "        vertical-align: top;\n",
       "    }\n",
       "\n",
       "    .dataframe thead th {\n",
       "        text-align: right;\n",
       "    }\n",
       "</style>\n",
       "<table border=\"1\" class=\"dataframe\">\n",
       "  <thead>\n",
       "    <tr style=\"text-align: right;\">\n",
       "      <th></th>\n",
       "      <th>Date</th>\n",
       "      <th>Time</th>\n",
       "      <th>State</th>\n",
       "    </tr>\n",
       "  </thead>\n",
       "  <tbody>\n",
       "    <tr>\n",
       "      <th>0</th>\n",
       "      <td>1-Oct-2020</td>\n",
       "      <td>Morning</td>\n",
       "      <td>WA</td>\n",
       "    </tr>\n",
       "    <tr>\n",
       "      <th>1</th>\n",
       "      <td>1-Oct-2020</td>\n",
       "      <td>Morning</td>\n",
       "      <td>WA</td>\n",
       "    </tr>\n",
       "    <tr>\n",
       "      <th>2</th>\n",
       "      <td>1-Oct-2020</td>\n",
       "      <td>Morning</td>\n",
       "      <td>WA</td>\n",
       "    </tr>\n",
       "    <tr>\n",
       "      <th>3</th>\n",
       "      <td>1-Oct-2020</td>\n",
       "      <td>Morning</td>\n",
       "      <td>WA</td>\n",
       "    </tr>\n",
       "    <tr>\n",
       "      <th>4</th>\n",
       "      <td>1-Oct-2020</td>\n",
       "      <td>Afternoon</td>\n",
       "      <td>WA</td>\n",
       "    </tr>\n",
       "    <tr>\n",
       "      <th>...</th>\n",
       "      <td>...</td>\n",
       "      <td>...</td>\n",
       "      <td>...</td>\n",
       "    </tr>\n",
       "    <tr>\n",
       "      <th>7555</th>\n",
       "      <td>30-Dec-2020</td>\n",
       "      <td>Afternoon</td>\n",
       "      <td>TAS</td>\n",
       "    </tr>\n",
       "    <tr>\n",
       "      <th>7556</th>\n",
       "      <td>30-Dec-2020</td>\n",
       "      <td>Evening</td>\n",
       "      <td>TAS</td>\n",
       "    </tr>\n",
       "    <tr>\n",
       "      <th>7557</th>\n",
       "      <td>30-Dec-2020</td>\n",
       "      <td>Evening</td>\n",
       "      <td>TAS</td>\n",
       "    </tr>\n",
       "    <tr>\n",
       "      <th>7558</th>\n",
       "      <td>30-Dec-2020</td>\n",
       "      <td>Evening</td>\n",
       "      <td>TAS</td>\n",
       "    </tr>\n",
       "    <tr>\n",
       "      <th>7559</th>\n",
       "      <td>30-Dec-2020</td>\n",
       "      <td>Evening</td>\n",
       "      <td>TAS</td>\n",
       "    </tr>\n",
       "  </tbody>\n",
       "</table>\n",
       "<p>7560 rows × 3 columns</p>\n",
       "</div>"
      ],
      "text/plain": [
       "             Date        Time State\n",
       "0      1-Oct-2020     Morning    WA\n",
       "1      1-Oct-2020     Morning    WA\n",
       "2      1-Oct-2020     Morning    WA\n",
       "3      1-Oct-2020     Morning    WA\n",
       "4      1-Oct-2020   Afternoon    WA\n",
       "...           ...         ...   ...\n",
       "7555  30-Dec-2020   Afternoon   TAS\n",
       "7556  30-Dec-2020     Evening   TAS\n",
       "7557  30-Dec-2020     Evening   TAS\n",
       "7558  30-Dec-2020     Evening   TAS\n",
       "7559  30-Dec-2020     Evening   TAS\n",
       "\n",
       "[7560 rows x 3 columns]"
      ]
     },
     "execution_count": 17,
     "metadata": {},
     "output_type": "execute_result"
    }
   ],
   "source": [
    "df.loc[:,:'State']"
   ]
  },
  {
   "cell_type": "code",
   "execution_count": 18,
   "id": "85e19c56",
   "metadata": {
    "execution": {
     "iopub.execute_input": "2024-05-14T10:07:43.054059Z",
     "iopub.status.busy": "2024-05-14T10:07:43.053677Z",
     "iopub.status.idle": "2024-05-14T10:07:43.066255Z",
     "shell.execute_reply": "2024-05-14T10:07:43.065172Z"
    },
    "papermill": {
     "duration": 0.033811,
     "end_time": "2024-05-14T10:07:43.068345",
     "exception": false,
     "start_time": "2024-05-14T10:07:43.034534",
     "status": "completed"
    },
    "tags": []
   },
   "outputs": [
    {
     "data": {
      "text/html": [
       "<div>\n",
       "<style scoped>\n",
       "    .dataframe tbody tr th:only-of-type {\n",
       "        vertical-align: middle;\n",
       "    }\n",
       "\n",
       "    .dataframe tbody tr th {\n",
       "        vertical-align: top;\n",
       "    }\n",
       "\n",
       "    .dataframe thead th {\n",
       "        text-align: right;\n",
       "    }\n",
       "</style>\n",
       "<table border=\"1\" class=\"dataframe\">\n",
       "  <thead>\n",
       "    <tr style=\"text-align: right;\">\n",
       "      <th></th>\n",
       "      <th>Date</th>\n",
       "      <th>Time</th>\n",
       "      <th>State</th>\n",
       "    </tr>\n",
       "  </thead>\n",
       "  <tbody>\n",
       "    <tr>\n",
       "      <th>0</th>\n",
       "      <td>1-Oct-2020</td>\n",
       "      <td>Morning</td>\n",
       "      <td>WA</td>\n",
       "    </tr>\n",
       "    <tr>\n",
       "      <th>1</th>\n",
       "      <td>1-Oct-2020</td>\n",
       "      <td>Morning</td>\n",
       "      <td>WA</td>\n",
       "    </tr>\n",
       "    <tr>\n",
       "      <th>2</th>\n",
       "      <td>1-Oct-2020</td>\n",
       "      <td>Morning</td>\n",
       "      <td>WA</td>\n",
       "    </tr>\n",
       "    <tr>\n",
       "      <th>3</th>\n",
       "      <td>1-Oct-2020</td>\n",
       "      <td>Morning</td>\n",
       "      <td>WA</td>\n",
       "    </tr>\n",
       "    <tr>\n",
       "      <th>4</th>\n",
       "      <td>1-Oct-2020</td>\n",
       "      <td>Afternoon</td>\n",
       "      <td>WA</td>\n",
       "    </tr>\n",
       "    <tr>\n",
       "      <th>...</th>\n",
       "      <td>...</td>\n",
       "      <td>...</td>\n",
       "      <td>...</td>\n",
       "    </tr>\n",
       "    <tr>\n",
       "      <th>7555</th>\n",
       "      <td>30-Dec-2020</td>\n",
       "      <td>Afternoon</td>\n",
       "      <td>TAS</td>\n",
       "    </tr>\n",
       "    <tr>\n",
       "      <th>7556</th>\n",
       "      <td>30-Dec-2020</td>\n",
       "      <td>Evening</td>\n",
       "      <td>TAS</td>\n",
       "    </tr>\n",
       "    <tr>\n",
       "      <th>7557</th>\n",
       "      <td>30-Dec-2020</td>\n",
       "      <td>Evening</td>\n",
       "      <td>TAS</td>\n",
       "    </tr>\n",
       "    <tr>\n",
       "      <th>7558</th>\n",
       "      <td>30-Dec-2020</td>\n",
       "      <td>Evening</td>\n",
       "      <td>TAS</td>\n",
       "    </tr>\n",
       "    <tr>\n",
       "      <th>7559</th>\n",
       "      <td>30-Dec-2020</td>\n",
       "      <td>Evening</td>\n",
       "      <td>TAS</td>\n",
       "    </tr>\n",
       "  </tbody>\n",
       "</table>\n",
       "<p>7560 rows × 3 columns</p>\n",
       "</div>"
      ],
      "text/plain": [
       "             Date        Time State\n",
       "0      1-Oct-2020     Morning    WA\n",
       "1      1-Oct-2020     Morning    WA\n",
       "2      1-Oct-2020     Morning    WA\n",
       "3      1-Oct-2020     Morning    WA\n",
       "4      1-Oct-2020   Afternoon    WA\n",
       "...           ...         ...   ...\n",
       "7555  30-Dec-2020   Afternoon   TAS\n",
       "7556  30-Dec-2020     Evening   TAS\n",
       "7557  30-Dec-2020     Evening   TAS\n",
       "7558  30-Dec-2020     Evening   TAS\n",
       "7559  30-Dec-2020     Evening   TAS\n",
       "\n",
       "[7560 rows x 3 columns]"
      ]
     },
     "execution_count": 18,
     "metadata": {},
     "output_type": "execute_result"
    }
   ],
   "source": [
    "df.iloc[:,:3]"
   ]
  },
  {
   "cell_type": "code",
   "execution_count": 19,
   "id": "fbf8d3e5",
   "metadata": {
    "execution": {
     "iopub.execute_input": "2024-05-14T10:07:43.108515Z",
     "iopub.status.busy": "2024-05-14T10:07:43.107764Z",
     "iopub.status.idle": "2024-05-14T10:07:43.120161Z",
     "shell.execute_reply": "2024-05-14T10:07:43.118904Z"
    },
    "papermill": {
     "duration": 0.034285,
     "end_time": "2024-05-14T10:07:43.122416",
     "exception": false,
     "start_time": "2024-05-14T10:07:43.088131",
     "status": "completed"
    },
    "tags": []
   },
   "outputs": [
    {
     "data": {
      "text/html": [
       "<div>\n",
       "<style scoped>\n",
       "    .dataframe tbody tr th:only-of-type {\n",
       "        vertical-align: middle;\n",
       "    }\n",
       "\n",
       "    .dataframe tbody tr th {\n",
       "        vertical-align: top;\n",
       "    }\n",
       "\n",
       "    .dataframe thead th {\n",
       "        text-align: right;\n",
       "    }\n",
       "</style>\n",
       "<table border=\"1\" class=\"dataframe\">\n",
       "  <thead>\n",
       "    <tr style=\"text-align: right;\">\n",
       "      <th></th>\n",
       "      <th>Date</th>\n",
       "      <th>Time</th>\n",
       "      <th>State</th>\n",
       "    </tr>\n",
       "  </thead>\n",
       "  <tbody>\n",
       "    <tr>\n",
       "      <th>0</th>\n",
       "      <td>1-Oct-2020</td>\n",
       "      <td>Morning</td>\n",
       "      <td>WA</td>\n",
       "    </tr>\n",
       "    <tr>\n",
       "      <th>1</th>\n",
       "      <td>1-Oct-2020</td>\n",
       "      <td>Morning</td>\n",
       "      <td>WA</td>\n",
       "    </tr>\n",
       "    <tr>\n",
       "      <th>2</th>\n",
       "      <td>1-Oct-2020</td>\n",
       "      <td>Morning</td>\n",
       "      <td>WA</td>\n",
       "    </tr>\n",
       "    <tr>\n",
       "      <th>3</th>\n",
       "      <td>1-Oct-2020</td>\n",
       "      <td>Morning</td>\n",
       "      <td>WA</td>\n",
       "    </tr>\n",
       "    <tr>\n",
       "      <th>4</th>\n",
       "      <td>1-Oct-2020</td>\n",
       "      <td>Afternoon</td>\n",
       "      <td>WA</td>\n",
       "    </tr>\n",
       "    <tr>\n",
       "      <th>5</th>\n",
       "      <td>1-Oct-2020</td>\n",
       "      <td>Afternoon</td>\n",
       "      <td>WA</td>\n",
       "    </tr>\n",
       "    <tr>\n",
       "      <th>6</th>\n",
       "      <td>1-Oct-2020</td>\n",
       "      <td>Afternoon</td>\n",
       "      <td>WA</td>\n",
       "    </tr>\n",
       "    <tr>\n",
       "      <th>7</th>\n",
       "      <td>1-Oct-2020</td>\n",
       "      <td>Afternoon</td>\n",
       "      <td>WA</td>\n",
       "    </tr>\n",
       "    <tr>\n",
       "      <th>8</th>\n",
       "      <td>1-Oct-2020</td>\n",
       "      <td>Evening</td>\n",
       "      <td>WA</td>\n",
       "    </tr>\n",
       "    <tr>\n",
       "      <th>9</th>\n",
       "      <td>1-Oct-2020</td>\n",
       "      <td>Evening</td>\n",
       "      <td>WA</td>\n",
       "    </tr>\n",
       "    <tr>\n",
       "      <th>10</th>\n",
       "      <td>1-Oct-2020</td>\n",
       "      <td>Evening</td>\n",
       "      <td>WA</td>\n",
       "    </tr>\n",
       "    <tr>\n",
       "      <th>11</th>\n",
       "      <td>1-Oct-2020</td>\n",
       "      <td>Evening</td>\n",
       "      <td>WA</td>\n",
       "    </tr>\n",
       "    <tr>\n",
       "      <th>12</th>\n",
       "      <td>1-Oct-2020</td>\n",
       "      <td>Morning</td>\n",
       "      <td>NT</td>\n",
       "    </tr>\n",
       "    <tr>\n",
       "      <th>13</th>\n",
       "      <td>1-Oct-2020</td>\n",
       "      <td>Morning</td>\n",
       "      <td>NT</td>\n",
       "    </tr>\n",
       "    <tr>\n",
       "      <th>14</th>\n",
       "      <td>1-Oct-2020</td>\n",
       "      <td>Morning</td>\n",
       "      <td>NT</td>\n",
       "    </tr>\n",
       "    <tr>\n",
       "      <th>15</th>\n",
       "      <td>1-Oct-2020</td>\n",
       "      <td>Morning</td>\n",
       "      <td>NT</td>\n",
       "    </tr>\n",
       "    <tr>\n",
       "      <th>16</th>\n",
       "      <td>1-Oct-2020</td>\n",
       "      <td>Afternoon</td>\n",
       "      <td>NT</td>\n",
       "    </tr>\n",
       "    <tr>\n",
       "      <th>17</th>\n",
       "      <td>1-Oct-2020</td>\n",
       "      <td>Afternoon</td>\n",
       "      <td>NT</td>\n",
       "    </tr>\n",
       "    <tr>\n",
       "      <th>18</th>\n",
       "      <td>1-Oct-2020</td>\n",
       "      <td>Afternoon</td>\n",
       "      <td>NT</td>\n",
       "    </tr>\n",
       "    <tr>\n",
       "      <th>19</th>\n",
       "      <td>1-Oct-2020</td>\n",
       "      <td>Afternoon</td>\n",
       "      <td>NT</td>\n",
       "    </tr>\n",
       "  </tbody>\n",
       "</table>\n",
       "</div>"
      ],
      "text/plain": [
       "          Date        Time State\n",
       "0   1-Oct-2020     Morning    WA\n",
       "1   1-Oct-2020     Morning    WA\n",
       "2   1-Oct-2020     Morning    WA\n",
       "3   1-Oct-2020     Morning    WA\n",
       "4   1-Oct-2020   Afternoon    WA\n",
       "5   1-Oct-2020   Afternoon    WA\n",
       "6   1-Oct-2020   Afternoon    WA\n",
       "7   1-Oct-2020   Afternoon    WA\n",
       "8   1-Oct-2020     Evening    WA\n",
       "9   1-Oct-2020     Evening    WA\n",
       "10  1-Oct-2020     Evening    WA\n",
       "11  1-Oct-2020     Evening    WA\n",
       "12  1-Oct-2020     Morning    NT\n",
       "13  1-Oct-2020     Morning    NT\n",
       "14  1-Oct-2020     Morning    NT\n",
       "15  1-Oct-2020     Morning    NT\n",
       "16  1-Oct-2020   Afternoon    NT\n",
       "17  1-Oct-2020   Afternoon    NT\n",
       "18  1-Oct-2020   Afternoon    NT\n",
       "19  1-Oct-2020   Afternoon    NT"
      ]
     },
     "execution_count": 19,
     "metadata": {},
     "output_type": "execute_result"
    }
   ],
   "source": [
    "df.loc[:19,: 'State']"
   ]
  },
  {
   "cell_type": "code",
   "execution_count": 20,
   "id": "221c4a1f",
   "metadata": {
    "execution": {
     "iopub.execute_input": "2024-05-14T10:07:43.161236Z",
     "iopub.status.busy": "2024-05-14T10:07:43.160837Z",
     "iopub.status.idle": "2024-05-14T10:07:43.172764Z",
     "shell.execute_reply": "2024-05-14T10:07:43.171532Z"
    },
    "papermill": {
     "duration": 0.033876,
     "end_time": "2024-05-14T10:07:43.175002",
     "exception": false,
     "start_time": "2024-05-14T10:07:43.141126",
     "status": "completed"
    },
    "tags": []
   },
   "outputs": [
    {
     "data": {
      "text/html": [
       "<div>\n",
       "<style scoped>\n",
       "    .dataframe tbody tr th:only-of-type {\n",
       "        vertical-align: middle;\n",
       "    }\n",
       "\n",
       "    .dataframe tbody tr th {\n",
       "        vertical-align: top;\n",
       "    }\n",
       "\n",
       "    .dataframe thead th {\n",
       "        text-align: right;\n",
       "    }\n",
       "</style>\n",
       "<table border=\"1\" class=\"dataframe\">\n",
       "  <thead>\n",
       "    <tr style=\"text-align: right;\">\n",
       "      <th></th>\n",
       "      <th>Date</th>\n",
       "      <th>Time</th>\n",
       "      <th>State</th>\n",
       "    </tr>\n",
       "  </thead>\n",
       "  <tbody>\n",
       "    <tr>\n",
       "      <th>0</th>\n",
       "      <td>1-Oct-2020</td>\n",
       "      <td>Morning</td>\n",
       "      <td>WA</td>\n",
       "    </tr>\n",
       "    <tr>\n",
       "      <th>1</th>\n",
       "      <td>1-Oct-2020</td>\n",
       "      <td>Morning</td>\n",
       "      <td>WA</td>\n",
       "    </tr>\n",
       "    <tr>\n",
       "      <th>2</th>\n",
       "      <td>1-Oct-2020</td>\n",
       "      <td>Morning</td>\n",
       "      <td>WA</td>\n",
       "    </tr>\n",
       "    <tr>\n",
       "      <th>3</th>\n",
       "      <td>1-Oct-2020</td>\n",
       "      <td>Morning</td>\n",
       "      <td>WA</td>\n",
       "    </tr>\n",
       "    <tr>\n",
       "      <th>4</th>\n",
       "      <td>1-Oct-2020</td>\n",
       "      <td>Afternoon</td>\n",
       "      <td>WA</td>\n",
       "    </tr>\n",
       "    <tr>\n",
       "      <th>5</th>\n",
       "      <td>1-Oct-2020</td>\n",
       "      <td>Afternoon</td>\n",
       "      <td>WA</td>\n",
       "    </tr>\n",
       "    <tr>\n",
       "      <th>6</th>\n",
       "      <td>1-Oct-2020</td>\n",
       "      <td>Afternoon</td>\n",
       "      <td>WA</td>\n",
       "    </tr>\n",
       "    <tr>\n",
       "      <th>7</th>\n",
       "      <td>1-Oct-2020</td>\n",
       "      <td>Afternoon</td>\n",
       "      <td>WA</td>\n",
       "    </tr>\n",
       "    <tr>\n",
       "      <th>8</th>\n",
       "      <td>1-Oct-2020</td>\n",
       "      <td>Evening</td>\n",
       "      <td>WA</td>\n",
       "    </tr>\n",
       "    <tr>\n",
       "      <th>9</th>\n",
       "      <td>1-Oct-2020</td>\n",
       "      <td>Evening</td>\n",
       "      <td>WA</td>\n",
       "    </tr>\n",
       "    <tr>\n",
       "      <th>10</th>\n",
       "      <td>1-Oct-2020</td>\n",
       "      <td>Evening</td>\n",
       "      <td>WA</td>\n",
       "    </tr>\n",
       "    <tr>\n",
       "      <th>11</th>\n",
       "      <td>1-Oct-2020</td>\n",
       "      <td>Evening</td>\n",
       "      <td>WA</td>\n",
       "    </tr>\n",
       "    <tr>\n",
       "      <th>12</th>\n",
       "      <td>1-Oct-2020</td>\n",
       "      <td>Morning</td>\n",
       "      <td>NT</td>\n",
       "    </tr>\n",
       "    <tr>\n",
       "      <th>13</th>\n",
       "      <td>1-Oct-2020</td>\n",
       "      <td>Morning</td>\n",
       "      <td>NT</td>\n",
       "    </tr>\n",
       "    <tr>\n",
       "      <th>14</th>\n",
       "      <td>1-Oct-2020</td>\n",
       "      <td>Morning</td>\n",
       "      <td>NT</td>\n",
       "    </tr>\n",
       "    <tr>\n",
       "      <th>15</th>\n",
       "      <td>1-Oct-2020</td>\n",
       "      <td>Morning</td>\n",
       "      <td>NT</td>\n",
       "    </tr>\n",
       "    <tr>\n",
       "      <th>16</th>\n",
       "      <td>1-Oct-2020</td>\n",
       "      <td>Afternoon</td>\n",
       "      <td>NT</td>\n",
       "    </tr>\n",
       "    <tr>\n",
       "      <th>17</th>\n",
       "      <td>1-Oct-2020</td>\n",
       "      <td>Afternoon</td>\n",
       "      <td>NT</td>\n",
       "    </tr>\n",
       "    <tr>\n",
       "      <th>18</th>\n",
       "      <td>1-Oct-2020</td>\n",
       "      <td>Afternoon</td>\n",
       "      <td>NT</td>\n",
       "    </tr>\n",
       "    <tr>\n",
       "      <th>19</th>\n",
       "      <td>1-Oct-2020</td>\n",
       "      <td>Afternoon</td>\n",
       "      <td>NT</td>\n",
       "    </tr>\n",
       "  </tbody>\n",
       "</table>\n",
       "</div>"
      ],
      "text/plain": [
       "          Date        Time State\n",
       "0   1-Oct-2020     Morning    WA\n",
       "1   1-Oct-2020     Morning    WA\n",
       "2   1-Oct-2020     Morning    WA\n",
       "3   1-Oct-2020     Morning    WA\n",
       "4   1-Oct-2020   Afternoon    WA\n",
       "5   1-Oct-2020   Afternoon    WA\n",
       "6   1-Oct-2020   Afternoon    WA\n",
       "7   1-Oct-2020   Afternoon    WA\n",
       "8   1-Oct-2020     Evening    WA\n",
       "9   1-Oct-2020     Evening    WA\n",
       "10  1-Oct-2020     Evening    WA\n",
       "11  1-Oct-2020     Evening    WA\n",
       "12  1-Oct-2020     Morning    NT\n",
       "13  1-Oct-2020     Morning    NT\n",
       "14  1-Oct-2020     Morning    NT\n",
       "15  1-Oct-2020     Morning    NT\n",
       "16  1-Oct-2020   Afternoon    NT\n",
       "17  1-Oct-2020   Afternoon    NT\n",
       "18  1-Oct-2020   Afternoon    NT\n",
       "19  1-Oct-2020   Afternoon    NT"
      ]
     },
     "execution_count": 20,
     "metadata": {},
     "output_type": "execute_result"
    }
   ],
   "source": [
    "df.iloc[:20,: 3]"
   ]
  },
  {
   "cell_type": "code",
   "execution_count": 21,
   "id": "e017a160",
   "metadata": {
    "execution": {
     "iopub.execute_input": "2024-05-14T10:07:43.214242Z",
     "iopub.status.busy": "2024-05-14T10:07:43.213832Z",
     "iopub.status.idle": "2024-05-14T10:07:43.226169Z",
     "shell.execute_reply": "2024-05-14T10:07:43.225196Z"
    },
    "papermill": {
     "duration": 0.034454,
     "end_time": "2024-05-14T10:07:43.228214",
     "exception": false,
     "start_time": "2024-05-14T10:07:43.193760",
     "status": "completed"
    },
    "tags": []
   },
   "outputs": [
    {
     "data": {
      "text/html": [
       "<div>\n",
       "<style scoped>\n",
       "    .dataframe tbody tr th:only-of-type {\n",
       "        vertical-align: middle;\n",
       "    }\n",
       "\n",
       "    .dataframe tbody tr th {\n",
       "        vertical-align: top;\n",
       "    }\n",
       "\n",
       "    .dataframe thead th {\n",
       "        text-align: right;\n",
       "    }\n",
       "</style>\n",
       "<table border=\"1\" class=\"dataframe\">\n",
       "  <thead>\n",
       "    <tr style=\"text-align: right;\">\n",
       "      <th></th>\n",
       "      <th>Date</th>\n",
       "      <th>Time</th>\n",
       "      <th>State</th>\n",
       "      <th>Group</th>\n",
       "    </tr>\n",
       "  </thead>\n",
       "  <tbody>\n",
       "    <tr>\n",
       "      <th>0</th>\n",
       "      <td>1-Oct-2020</td>\n",
       "      <td>Morning</td>\n",
       "      <td>WA</td>\n",
       "      <td>Kids</td>\n",
       "    </tr>\n",
       "    <tr>\n",
       "      <th>1</th>\n",
       "      <td>1-Oct-2020</td>\n",
       "      <td>Morning</td>\n",
       "      <td>WA</td>\n",
       "      <td>Men</td>\n",
       "    </tr>\n",
       "    <tr>\n",
       "      <th>2</th>\n",
       "      <td>1-Oct-2020</td>\n",
       "      <td>Morning</td>\n",
       "      <td>WA</td>\n",
       "      <td>Women</td>\n",
       "    </tr>\n",
       "    <tr>\n",
       "      <th>3</th>\n",
       "      <td>1-Oct-2020</td>\n",
       "      <td>Morning</td>\n",
       "      <td>WA</td>\n",
       "      <td>Seniors</td>\n",
       "    </tr>\n",
       "    <tr>\n",
       "      <th>4</th>\n",
       "      <td>1-Oct-2020</td>\n",
       "      <td>Afternoon</td>\n",
       "      <td>WA</td>\n",
       "      <td>Kids</td>\n",
       "    </tr>\n",
       "    <tr>\n",
       "      <th>...</th>\n",
       "      <td>...</td>\n",
       "      <td>...</td>\n",
       "      <td>...</td>\n",
       "      <td>...</td>\n",
       "    </tr>\n",
       "    <tr>\n",
       "      <th>7555</th>\n",
       "      <td>30-Dec-2020</td>\n",
       "      <td>Afternoon</td>\n",
       "      <td>TAS</td>\n",
       "      <td>Seniors</td>\n",
       "    </tr>\n",
       "    <tr>\n",
       "      <th>7556</th>\n",
       "      <td>30-Dec-2020</td>\n",
       "      <td>Evening</td>\n",
       "      <td>TAS</td>\n",
       "      <td>Kids</td>\n",
       "    </tr>\n",
       "    <tr>\n",
       "      <th>7557</th>\n",
       "      <td>30-Dec-2020</td>\n",
       "      <td>Evening</td>\n",
       "      <td>TAS</td>\n",
       "      <td>Men</td>\n",
       "    </tr>\n",
       "    <tr>\n",
       "      <th>7558</th>\n",
       "      <td>30-Dec-2020</td>\n",
       "      <td>Evening</td>\n",
       "      <td>TAS</td>\n",
       "      <td>Women</td>\n",
       "    </tr>\n",
       "    <tr>\n",
       "      <th>7559</th>\n",
       "      <td>30-Dec-2020</td>\n",
       "      <td>Evening</td>\n",
       "      <td>TAS</td>\n",
       "      <td>Seniors</td>\n",
       "    </tr>\n",
       "  </tbody>\n",
       "</table>\n",
       "<p>7560 rows × 4 columns</p>\n",
       "</div>"
      ],
      "text/plain": [
       "             Date        Time State     Group\n",
       "0      1-Oct-2020     Morning    WA      Kids\n",
       "1      1-Oct-2020     Morning    WA       Men\n",
       "2      1-Oct-2020     Morning    WA     Women\n",
       "3      1-Oct-2020     Morning    WA   Seniors\n",
       "4      1-Oct-2020   Afternoon    WA      Kids\n",
       "...           ...         ...   ...       ...\n",
       "7555  30-Dec-2020   Afternoon   TAS   Seniors\n",
       "7556  30-Dec-2020     Evening   TAS      Kids\n",
       "7557  30-Dec-2020     Evening   TAS       Men\n",
       "7558  30-Dec-2020     Evening   TAS     Women\n",
       "7559  30-Dec-2020     Evening   TAS   Seniors\n",
       "\n",
       "[7560 rows x 4 columns]"
      ]
     },
     "execution_count": 21,
     "metadata": {},
     "output_type": "execute_result"
    }
   ],
   "source": [
    "df.iloc[:,: -2]"
   ]
  },
  {
   "cell_type": "code",
   "execution_count": 22,
   "id": "19cc851b",
   "metadata": {
    "execution": {
     "iopub.execute_input": "2024-05-14T10:07:43.268100Z",
     "iopub.status.busy": "2024-05-14T10:07:43.267707Z",
     "iopub.status.idle": "2024-05-14T10:07:43.274218Z",
     "shell.execute_reply": "2024-05-14T10:07:43.273457Z"
    },
    "papermill": {
     "duration": 0.028754,
     "end_time": "2024-05-14T10:07:43.276027",
     "exception": false,
     "start_time": "2024-05-14T10:07:43.247273",
     "status": "completed"
    },
    "tags": []
   },
   "outputs": [
    {
     "data": {
      "text/plain": [
       "array([' Morning', ' Afternoon', ' Evening'], dtype=object)"
      ]
     },
     "execution_count": 22,
     "metadata": {},
     "output_type": "execute_result"
    }
   ],
   "source": [
    "df[\"Time\"].unique()"
   ]
  },
  {
   "cell_type": "code",
   "execution_count": 23,
   "id": "bce0adb1",
   "metadata": {
    "execution": {
     "iopub.execute_input": "2024-05-14T10:07:43.316701Z",
     "iopub.status.busy": "2024-05-14T10:07:43.315742Z",
     "iopub.status.idle": "2024-05-14T10:07:43.323288Z",
     "shell.execute_reply": "2024-05-14T10:07:43.321953Z"
    },
    "papermill": {
     "duration": 0.030081,
     "end_time": "2024-05-14T10:07:43.325483",
     "exception": false,
     "start_time": "2024-05-14T10:07:43.295402",
     "status": "completed"
    },
    "tags": []
   },
   "outputs": [
    {
     "data": {
      "text/plain": [
       "3"
      ]
     },
     "execution_count": 23,
     "metadata": {},
     "output_type": "execute_result"
    }
   ],
   "source": [
    "df[\"Time\"].nunique()"
   ]
  },
  {
   "cell_type": "code",
   "execution_count": 24,
   "id": "8c809c52",
   "metadata": {
    "execution": {
     "iopub.execute_input": "2024-05-14T10:07:43.366418Z",
     "iopub.status.busy": "2024-05-14T10:07:43.366037Z",
     "iopub.status.idle": "2024-05-14T10:07:43.374226Z",
     "shell.execute_reply": "2024-05-14T10:07:43.373323Z"
    },
    "papermill": {
     "duration": 0.031012,
     "end_time": "2024-05-14T10:07:43.376288",
     "exception": false,
     "start_time": "2024-05-14T10:07:43.345276",
     "status": "completed"
    },
    "tags": []
   },
   "outputs": [
    {
     "data": {
      "text/plain": [
       "Time\n",
       "Morning      2520\n",
       "Afternoon    2520\n",
       "Evening      2520\n",
       "Name: count, dtype: int64"
      ]
     },
     "execution_count": 24,
     "metadata": {},
     "output_type": "execute_result"
    }
   ],
   "source": [
    "df[\"Time\"].value_counts()"
   ]
  },
  {
   "cell_type": "code",
   "execution_count": 25,
   "id": "ceb06eaf",
   "metadata": {
    "execution": {
     "iopub.execute_input": "2024-05-14T10:07:43.418227Z",
     "iopub.status.busy": "2024-05-14T10:07:43.417797Z",
     "iopub.status.idle": "2024-05-14T10:07:43.742818Z",
     "shell.execute_reply": "2024-05-14T10:07:43.741814Z"
    },
    "papermill": {
     "duration": 0.34831,
     "end_time": "2024-05-14T10:07:43.745230",
     "exception": false,
     "start_time": "2024-05-14T10:07:43.396920",
     "status": "completed"
    },
    "tags": []
   },
   "outputs": [
    {
     "data": {
      "text/plain": [
       "<Axes: ylabel='Time'>"
      ]
     },
     "execution_count": 25,
     "metadata": {},
     "output_type": "execute_result"
    },
    {
     "data": {
      "image/png": "[encoded data removed]",
      "text/plain": [
       "<Figure size 640x480 with 1 Axes>"
      ]
     },
     "metadata": {},
     "output_type": "display_data"
    }
   ],
   "source": [
    "df[\"Time\"].value_counts().plot(kind='barh')"
   ]
  },
  {
   "cell_type": "code",
   "execution_count": 26,
   "id": "709b8fbd",
   "metadata": {
    "execution": {
     "iopub.execute_input": "2024-05-14T10:07:43.788129Z",
     "iopub.status.busy": "2024-05-14T10:07:43.787690Z",
     "iopub.status.idle": "2024-05-14T10:07:43.794368Z",
     "shell.execute_reply": "2024-05-14T10:07:43.793610Z"
    },
    "papermill": {
     "duration": 0.030379,
     "end_time": "2024-05-14T10:07:43.796130",
     "exception": false,
     "start_time": "2024-05-14T10:07:43.765751",
     "status": "completed"
    },
    "tags": []
   },
   "outputs": [
    {
     "data": {
      "text/plain": [
       "array([' WA', ' NT', ' SA', ' VIC', ' QLD', ' NSW', ' TAS'], dtype=object)"
      ]
     },
     "execution_count": 26,
     "metadata": {},
     "output_type": "execute_result"
    }
   ],
   "source": [
    "df['State'].unique()"
   ]
  },
  {
   "cell_type": "code",
   "execution_count": 27,
   "id": "07013e7f",
   "metadata": {
    "execution": {
     "iopub.execute_input": "2024-05-14T10:07:43.837728Z",
     "iopub.status.busy": "2024-05-14T10:07:43.837373Z",
     "iopub.status.idle": "2024-05-14T10:07:43.844124Z",
     "shell.execute_reply": "2024-05-14T10:07:43.843179Z"
    },
    "papermill": {
     "duration": 0.02995,
     "end_time": "2024-05-14T10:07:43.846319",
     "exception": false,
     "start_time": "2024-05-14T10:07:43.816369",
     "status": "completed"
    },
    "tags": []
   },
   "outputs": [
    {
     "data": {
      "text/plain": [
       "7"
      ]
     },
     "execution_count": 27,
     "metadata": {},
     "output_type": "execute_result"
    }
   ],
   "source": [
    "df['State'].nunique()"
   ]
  },
  {
   "cell_type": "code",
   "execution_count": 28,
   "id": "8a57993f",
   "metadata": {
    "execution": {
     "iopub.execute_input": "2024-05-14T10:07:43.887753Z",
     "iopub.status.busy": "2024-05-14T10:07:43.887387Z",
     "iopub.status.idle": "2024-05-14T10:07:43.896080Z",
     "shell.execute_reply": "2024-05-14T10:07:43.895096Z"
    },
    "papermill": {
     "duration": 0.031883,
     "end_time": "2024-05-14T10:07:43.898289",
     "exception": false,
     "start_time": "2024-05-14T10:07:43.866406",
     "status": "completed"
    },
    "tags": []
   },
   "outputs": [
    {
     "data": {
      "text/plain": [
       "State\n",
       "WA     1080\n",
       "NT     1080\n",
       "SA     1080\n",
       "VIC    1080\n",
       "QLD    1080\n",
       "NSW    1080\n",
       "TAS    1080\n",
       "Name: count, dtype: int64"
      ]
     },
     "execution_count": 28,
     "metadata": {},
     "output_type": "execute_result"
    }
   ],
   "source": [
    "df['State'].value_counts()"
   ]
  },
  {
   "cell_type": "code",
   "execution_count": 29,
   "id": "5c8d3cae",
   "metadata": {
    "execution": {
     "iopub.execute_input": "2024-05-14T10:07:43.940747Z",
     "iopub.status.busy": "2024-05-14T10:07:43.940384Z",
     "iopub.status.idle": "2024-05-14T10:07:44.168650Z",
     "shell.execute_reply": "2024-05-14T10:07:44.167560Z"
    },
    "papermill": {
     "duration": 0.252054,
     "end_time": "2024-05-14T10:07:44.170973",
     "exception": false,
     "start_time": "2024-05-14T10:07:43.918919",
     "status": "completed"
    },
    "tags": []
   },
   "outputs": [
    {
     "data": {
      "text/plain": [
       "<Axes: xlabel='State'>"
      ]
     },
     "execution_count": 29,
     "metadata": {},
     "output_type": "execute_result"
    },
    {
     "data": {
      "image/png": "[encoded data removed]",
      "text/plain": [
       "<Figure size 640x480 with 1 Axes>"
      ]
     },
     "metadata": {},
     "output_type": "display_data"
    }
   ],
   "source": [
    "df['State'].value_counts().plot(kind='bar')"
   ]
  },
  {
   "cell_type": "code",
   "execution_count": 30,
   "id": "d933b325",
   "metadata": {
    "execution": {
     "iopub.execute_input": "2024-05-14T10:07:44.213302Z",
     "iopub.status.busy": "2024-05-14T10:07:44.212924Z",
     "iopub.status.idle": "2024-05-14T10:07:44.492844Z",
     "shell.execute_reply": "2024-05-14T10:07:44.491766Z"
    },
    "papermill": {
     "duration": 0.303575,
     "end_time": "2024-05-14T10:07:44.495070",
     "exception": false,
     "start_time": "2024-05-14T10:07:44.191495",
     "status": "completed"
    },
    "tags": []
   },
   "outputs": [
    {
     "data": {
      "text/plain": [
       "<Axes: >"
      ]
     },
     "execution_count": 30,
     "metadata": {},
     "output_type": "execute_result"
    },
    {
     "data": {
      "image/png": "[encoded data removed]",
      "text/plain": [
       "<Figure size 640x480 with 1 Axes>"
      ]
     },
     "metadata": {},
     "output_type": "display_data"
    }
   ],
   "source": [
    "df['Sales'].hist()"
   ]
  },
  {
   "cell_type": "code",
   "execution_count": 31,
   "id": "4a67e0ea",
   "metadata": {
    "execution": {
     "iopub.execute_input": "2024-05-14T10:07:44.538341Z",
     "iopub.status.busy": "2024-05-14T10:07:44.537974Z",
     "iopub.status.idle": "2024-05-14T10:07:44.544841Z",
     "shell.execute_reply": "2024-05-14T10:07:44.543625Z"
    },
    "papermill": {
     "duration": 0.031315,
     "end_time": "2024-05-14T10:07:44.547165",
     "exception": false,
     "start_time": "2024-05-14T10:07:44.515850",
     "status": "completed"
    },
    "tags": []
   },
   "outputs": [
    {
     "data": {
      "text/plain": [
       "(7560, 6)"
      ]
     },
     "execution_count": 31,
     "metadata": {},
     "output_type": "execute_result"
    }
   ],
   "source": [
    "df.shape"
   ]
  },
  {
   "cell_type": "code",
   "execution_count": 32,
   "id": "b5542e60",
   "metadata": {
    "execution": {
     "iopub.execute_input": "2024-05-14T10:07:44.591400Z",
     "iopub.status.busy": "2024-05-14T10:07:44.591039Z",
     "iopub.status.idle": "2024-05-14T10:07:44.606370Z",
     "shell.execute_reply": "2024-05-14T10:07:44.605187Z"
    },
    "papermill": {
     "duration": 0.040276,
     "end_time": "2024-05-14T10:07:44.608755",
     "exception": false,
     "start_time": "2024-05-14T10:07:44.568479",
     "status": "completed"
    },
    "tags": []
   },
   "outputs": [
    {
     "data": {
      "text/html": [
       "<div>\n",
       "<style scoped>\n",
       "    .dataframe tbody tr th:only-of-type {\n",
       "        vertical-align: middle;\n",
       "    }\n",
       "\n",
       "    .dataframe tbody tr th {\n",
       "        vertical-align: top;\n",
       "    }\n",
       "\n",
       "    .dataframe thead th {\n",
       "        text-align: right;\n",
       "    }\n",
       "</style>\n",
       "<table border=\"1\" class=\"dataframe\">\n",
       "  <thead>\n",
       "    <tr style=\"text-align: right;\">\n",
       "      <th></th>\n",
       "      <th>Date</th>\n",
       "      <th>Time</th>\n",
       "      <th>State</th>\n",
       "      <th>Group</th>\n",
       "      <th>Unit</th>\n",
       "      <th>Sales</th>\n",
       "    </tr>\n",
       "  </thead>\n",
       "  <tbody>\n",
       "    <tr>\n",
       "      <th>0</th>\n",
       "      <td>1-Oct-2020</td>\n",
       "      <td>Morning</td>\n",
       "      <td>WA</td>\n",
       "      <td>Kids</td>\n",
       "      <td>8</td>\n",
       "      <td>20000</td>\n",
       "    </tr>\n",
       "    <tr>\n",
       "      <th>1</th>\n",
       "      <td>1-Oct-2020</td>\n",
       "      <td>Morning</td>\n",
       "      <td>WA</td>\n",
       "      <td>Men</td>\n",
       "      <td>8</td>\n",
       "      <td>20000</td>\n",
       "    </tr>\n",
       "    <tr>\n",
       "      <th>2</th>\n",
       "      <td>1-Oct-2020</td>\n",
       "      <td>Morning</td>\n",
       "      <td>WA</td>\n",
       "      <td>Women</td>\n",
       "      <td>4</td>\n",
       "      <td>10000</td>\n",
       "    </tr>\n",
       "    <tr>\n",
       "      <th>3</th>\n",
       "      <td>1-Oct-2020</td>\n",
       "      <td>Morning</td>\n",
       "      <td>WA</td>\n",
       "      <td>Seniors</td>\n",
       "      <td>15</td>\n",
       "      <td>37500</td>\n",
       "    </tr>\n",
       "    <tr>\n",
       "      <th>4</th>\n",
       "      <td>1-Oct-2020</td>\n",
       "      <td>Afternoon</td>\n",
       "      <td>WA</td>\n",
       "      <td>Kids</td>\n",
       "      <td>3</td>\n",
       "      <td>7500</td>\n",
       "    </tr>\n",
       "    <tr>\n",
       "      <th>...</th>\n",
       "      <td>...</td>\n",
       "      <td>...</td>\n",
       "      <td>...</td>\n",
       "      <td>...</td>\n",
       "      <td>...</td>\n",
       "      <td>...</td>\n",
       "    </tr>\n",
       "    <tr>\n",
       "      <th>7555</th>\n",
       "      <td>30-Dec-2020</td>\n",
       "      <td>Afternoon</td>\n",
       "      <td>TAS</td>\n",
       "      <td>Seniors</td>\n",
       "      <td>14</td>\n",
       "      <td>35000</td>\n",
       "    </tr>\n",
       "    <tr>\n",
       "      <th>7556</th>\n",
       "      <td>30-Dec-2020</td>\n",
       "      <td>Evening</td>\n",
       "      <td>TAS</td>\n",
       "      <td>Kids</td>\n",
       "      <td>15</td>\n",
       "      <td>37500</td>\n",
       "    </tr>\n",
       "    <tr>\n",
       "      <th>7557</th>\n",
       "      <td>30-Dec-2020</td>\n",
       "      <td>Evening</td>\n",
       "      <td>TAS</td>\n",
       "      <td>Men</td>\n",
       "      <td>15</td>\n",
       "      <td>37500</td>\n",
       "    </tr>\n",
       "    <tr>\n",
       "      <th>7558</th>\n",
       "      <td>30-Dec-2020</td>\n",
       "      <td>Evening</td>\n",
       "      <td>TAS</td>\n",
       "      <td>Women</td>\n",
       "      <td>11</td>\n",
       "      <td>27500</td>\n",
       "    </tr>\n",
       "    <tr>\n",
       "      <th>7559</th>\n",
       "      <td>30-Dec-2020</td>\n",
       "      <td>Evening</td>\n",
       "      <td>TAS</td>\n",
       "      <td>Seniors</td>\n",
       "      <td>13</td>\n",
       "      <td>32500</td>\n",
       "    </tr>\n",
       "  </tbody>\n",
       "</table>\n",
       "<p>7560 rows × 6 columns</p>\n",
       "</div>"
      ],
      "text/plain": [
       "             Date        Time State     Group  Unit  Sales\n",
       "0      1-Oct-2020     Morning    WA      Kids     8  20000\n",
       "1      1-Oct-2020     Morning    WA       Men     8  20000\n",
       "2      1-Oct-2020     Morning    WA     Women     4  10000\n",
       "3      1-Oct-2020     Morning    WA   Seniors    15  37500\n",
       "4      1-Oct-2020   Afternoon    WA      Kids     3   7500\n",
       "...           ...         ...   ...       ...   ...    ...\n",
       "7555  30-Dec-2020   Afternoon   TAS   Seniors    14  35000\n",
       "7556  30-Dec-2020     Evening   TAS      Kids    15  37500\n",
       "7557  30-Dec-2020     Evening   TAS       Men    15  37500\n",
       "7558  30-Dec-2020     Evening   TAS     Women    11  27500\n",
       "7559  30-Dec-2020     Evening   TAS   Seniors    13  32500\n",
       "\n",
       "[7560 rows x 6 columns]"
      ]
     },
     "execution_count": 32,
     "metadata": {},
     "output_type": "execute_result"
    }
   ],
   "source": [
    "df.dropna()"
   ]
  },
  {
   "cell_type": "code",
   "execution_count": 33,
   "id": "90bea378",
   "metadata": {
    "execution": {
     "iopub.execute_input": "2024-05-14T10:07:44.653653Z",
     "iopub.status.busy": "2024-05-14T10:07:44.653312Z",
     "iopub.status.idle": "2024-05-14T10:07:44.669118Z",
     "shell.execute_reply": "2024-05-14T10:07:44.668270Z"
    },
    "papermill": {
     "duration": 0.040167,
     "end_time": "2024-05-14T10:07:44.671026",
     "exception": false,
     "start_time": "2024-05-14T10:07:44.630859",
     "status": "completed"
    },
    "tags": []
   },
   "outputs": [
    {
     "data": {
      "text/html": [
       "<div>\n",
       "<style scoped>\n",
       "    .dataframe tbody tr th:only-of-type {\n",
       "        vertical-align: middle;\n",
       "    }\n",
       "\n",
       "    .dataframe tbody tr th {\n",
       "        vertical-align: top;\n",
       "    }\n",
       "\n",
       "    .dataframe thead th {\n",
       "        text-align: right;\n",
       "    }\n",
       "</style>\n",
       "<table border=\"1\" class=\"dataframe\">\n",
       "  <thead>\n",
       "    <tr style=\"text-align: right;\">\n",
       "      <th></th>\n",
       "      <th>Date</th>\n",
       "      <th>Time</th>\n",
       "      <th>State</th>\n",
       "      <th>Group</th>\n",
       "      <th>Unit</th>\n",
       "      <th>Sales</th>\n",
       "    </tr>\n",
       "  </thead>\n",
       "  <tbody>\n",
       "    <tr>\n",
       "      <th>64</th>\n",
       "      <td>1-Oct-2020</td>\n",
       "      <td>Afternoon</td>\n",
       "      <td>NSW</td>\n",
       "      <td>Kids</td>\n",
       "      <td>40</td>\n",
       "      <td>100000</td>\n",
       "    </tr>\n",
       "    <tr>\n",
       "      <th>65</th>\n",
       "      <td>1-Oct-2020</td>\n",
       "      <td>Afternoon</td>\n",
       "      <td>NSW</td>\n",
       "      <td>Men</td>\n",
       "      <td>30</td>\n",
       "      <td>75000</td>\n",
       "    </tr>\n",
       "    <tr>\n",
       "      <th>66</th>\n",
       "      <td>1-Oct-2020</td>\n",
       "      <td>Afternoon</td>\n",
       "      <td>NSW</td>\n",
       "      <td>Women</td>\n",
       "      <td>30</td>\n",
       "      <td>75000</td>\n",
       "    </tr>\n",
       "    <tr>\n",
       "      <th>67</th>\n",
       "      <td>1-Oct-2020</td>\n",
       "      <td>Afternoon</td>\n",
       "      <td>NSW</td>\n",
       "      <td>Seniors</td>\n",
       "      <td>36</td>\n",
       "      <td>90000</td>\n",
       "    </tr>\n",
       "    <tr>\n",
       "      <th>148</th>\n",
       "      <td>2-Oct-2020</td>\n",
       "      <td>Afternoon</td>\n",
       "      <td>NSW</td>\n",
       "      <td>Kids</td>\n",
       "      <td>33</td>\n",
       "      <td>82500</td>\n",
       "    </tr>\n",
       "    <tr>\n",
       "      <th>...</th>\n",
       "      <td>...</td>\n",
       "      <td>...</td>\n",
       "      <td>...</td>\n",
       "      <td>...</td>\n",
       "      <td>...</td>\n",
       "      <td>...</td>\n",
       "    </tr>\n",
       "    <tr>\n",
       "      <th>7395</th>\n",
       "      <td>29-Dec-2020</td>\n",
       "      <td>Morning</td>\n",
       "      <td>WA</td>\n",
       "      <td>Seniors</td>\n",
       "      <td>15</td>\n",
       "      <td>37500</td>\n",
       "    </tr>\n",
       "    <tr>\n",
       "      <th>7476</th>\n",
       "      <td>30-Dec-2020</td>\n",
       "      <td>Morning</td>\n",
       "      <td>WA</td>\n",
       "      <td>Kids</td>\n",
       "      <td>12</td>\n",
       "      <td>30000</td>\n",
       "    </tr>\n",
       "    <tr>\n",
       "      <th>7477</th>\n",
       "      <td>30-Dec-2020</td>\n",
       "      <td>Morning</td>\n",
       "      <td>WA</td>\n",
       "      <td>Men</td>\n",
       "      <td>10</td>\n",
       "      <td>25000</td>\n",
       "    </tr>\n",
       "    <tr>\n",
       "      <th>7478</th>\n",
       "      <td>30-Dec-2020</td>\n",
       "      <td>Morning</td>\n",
       "      <td>WA</td>\n",
       "      <td>Women</td>\n",
       "      <td>13</td>\n",
       "      <td>32500</td>\n",
       "    </tr>\n",
       "    <tr>\n",
       "      <th>7479</th>\n",
       "      <td>30-Dec-2020</td>\n",
       "      <td>Morning</td>\n",
       "      <td>WA</td>\n",
       "      <td>Seniors</td>\n",
       "      <td>9</td>\n",
       "      <td>22500</td>\n",
       "    </tr>\n",
       "  </tbody>\n",
       "</table>\n",
       "<p>7560 rows × 6 columns</p>\n",
       "</div>"
      ],
      "text/plain": [
       "             Date        Time State     Group  Unit   Sales\n",
       "64     1-Oct-2020   Afternoon   NSW      Kids    40  100000\n",
       "65     1-Oct-2020   Afternoon   NSW       Men    30   75000\n",
       "66     1-Oct-2020   Afternoon   NSW     Women    30   75000\n",
       "67     1-Oct-2020   Afternoon   NSW   Seniors    36   90000\n",
       "148    2-Oct-2020   Afternoon   NSW      Kids    33   82500\n",
       "...           ...         ...   ...       ...   ...     ...\n",
       "7395  29-Dec-2020     Morning    WA   Seniors    15   37500\n",
       "7476  30-Dec-2020     Morning    WA      Kids    12   30000\n",
       "7477  30-Dec-2020     Morning    WA       Men    10   25000\n",
       "7478  30-Dec-2020     Morning    WA     Women    13   32500\n",
       "7479  30-Dec-2020     Morning    WA   Seniors     9   22500\n",
       "\n",
       "[7560 rows x 6 columns]"
      ]
     },
     "execution_count": 33,
     "metadata": {},
     "output_type": "execute_result"
    }
   ],
   "source": [
    "df.sort_values(by=[\"State\",\"Time\"])"
   ]
  },
  {
   "cell_type": "code",
   "execution_count": 34,
   "id": "52b7f92e",
   "metadata": {
    "execution": {
     "iopub.execute_input": "2024-05-14T10:07:44.715564Z",
     "iopub.status.busy": "2024-05-14T10:07:44.715218Z",
     "iopub.status.idle": "2024-05-14T10:07:44.725440Z",
     "shell.execute_reply": "2024-05-14T10:07:44.724668Z"
    },
    "papermill": {
     "duration": 0.034785,
     "end_time": "2024-05-14T10:07:44.727394",
     "exception": false,
     "start_time": "2024-05-14T10:07:44.692609",
     "status": "completed"
    },
    "tags": []
   },
   "outputs": [
    {
     "data": {
      "text/plain": [
       "State\n",
       "NSW    69416.666667\n",
       "NT     20907.407407\n",
       "QLD    30942.129630\n",
       "SA     54497.685185\n",
       "TAS    21074.074074\n",
       "VIC    97745.370370\n",
       "WA     20511.574074\n",
       "Name: Sales, dtype: float64"
      ]
     },
     "execution_count": 34,
     "metadata": {},
     "output_type": "execute_result"
    }
   ],
   "source": [
    "df.groupby(\"State\")[\"Sales\"].mean()"
   ]
  },
  {
   "cell_type": "code",
   "execution_count": 35,
   "id": "82a0e54b",
   "metadata": {
    "execution": {
     "iopub.execute_input": "2024-05-14T10:07:44.773417Z",
     "iopub.status.busy": "2024-05-14T10:07:44.773045Z",
     "iopub.status.idle": "2024-05-14T10:07:44.781554Z",
     "shell.execute_reply": "2024-05-14T10:07:44.780827Z"
    },
    "papermill": {
     "duration": 0.03444,
     "end_time": "2024-05-14T10:07:44.783492",
     "exception": false,
     "start_time": "2024-05-14T10:07:44.749052",
     "status": "completed"
    },
    "tags": []
   },
   "outputs": [
    {
     "data": {
      "text/plain": [
       "State\n",
       "NSW     74970000\n",
       "NT      22580000\n",
       "QLD     33417500\n",
       "SA      58857500\n",
       "TAS     22760000\n",
       "VIC    105565000\n",
       "WA      22152500\n",
       "Name: Sales, dtype: int64"
      ]
     },
     "execution_count": 35,
     "metadata": {},
     "output_type": "execute_result"
    }
   ],
   "source": [
    "df.groupby(\"State\")[\"Sales\"].sum()"
   ]
  },
  {
   "cell_type": "code",
   "execution_count": 36,
   "id": "1497bbbb",
   "metadata": {
    "execution": {
     "iopub.execute_input": "2024-05-14T10:07:44.828265Z",
     "iopub.status.busy": "2024-05-14T10:07:44.827853Z",
     "iopub.status.idle": "2024-05-14T10:07:44.832554Z",
     "shell.execute_reply": "2024-05-14T10:07:44.831470Z"
    },
    "papermill": {
     "duration": 0.029402,
     "end_time": "2024-05-14T10:07:44.834477",
     "exception": false,
     "start_time": "2024-05-14T10:07:44.805075",
     "status": "completed"
    },
    "tags": []
   },
   "outputs": [],
   "source": [
    "grouped = df.groupby(\"State\")"
   ]
  },
  {
   "cell_type": "code",
   "execution_count": 37,
   "id": "acf1e0e0",
   "metadata": {
    "execution": {
     "iopub.execute_input": "2024-05-14T10:07:44.879408Z",
     "iopub.status.busy": "2024-05-14T10:07:44.878691Z",
     "iopub.status.idle": "2024-05-14T10:07:44.908176Z",
     "shell.execute_reply": "2024-05-14T10:07:44.906179Z"
    },
    "papermill": {
     "duration": 0.054172,
     "end_time": "2024-05-14T10:07:44.910301",
     "exception": false,
     "start_time": "2024-05-14T10:07:44.856129",
     "status": "completed"
    },
    "tags": []
   },
   "outputs": [
    {
     "name": "stdout",
     "output_type": "stream",
     "text": [
      " NSW\n",
      "             Date        Time State     Group  Unit   Sales\n",
      "60     1-Oct-2020     Morning   NSW      Kids    39   97500\n",
      "61     1-Oct-2020     Morning   NSW       Men    17   42500\n",
      "62     1-Oct-2020     Morning   NSW     Women    34   85000\n",
      "63     1-Oct-2020     Morning   NSW   Seniors    23   57500\n",
      "64     1-Oct-2020   Afternoon   NSW      Kids    40  100000\n",
      "...           ...         ...   ...       ...   ...     ...\n",
      "7543  30-Dec-2020   Afternoon   NSW   Seniors    19   47500\n",
      "7544  30-Dec-2020     Evening   NSW      Kids    37   92500\n",
      "7545  30-Dec-2020     Evening   NSW       Men    41  102500\n",
      "7546  30-Dec-2020     Evening   NSW     Women    37   92500\n",
      "7547  30-Dec-2020     Evening   NSW   Seniors    23   57500\n",
      "\n",
      "[1080 rows x 6 columns]\n",
      " NT\n",
      "             Date        Time State     Group  Unit  Sales\n",
      "12     1-Oct-2020     Morning    NT      Kids    13  32500\n",
      "13     1-Oct-2020     Morning    NT       Men     5  12500\n",
      "14     1-Oct-2020     Morning    NT     Women     4  10000\n",
      "15     1-Oct-2020     Morning    NT   Seniors    10  25000\n",
      "16     1-Oct-2020   Afternoon    NT      Kids    13  32500\n",
      "...           ...         ...   ...       ...   ...    ...\n",
      "7495  30-Dec-2020   Afternoon    NT   Seniors    13  32500\n",
      "7496  30-Dec-2020     Evening    NT      Kids    15  37500\n",
      "7497  30-Dec-2020     Evening    NT       Men     6  15000\n",
      "7498  30-Dec-2020     Evening    NT     Women    11  27500\n",
      "7499  30-Dec-2020     Evening    NT   Seniors    14  35000\n",
      "\n",
      "[1080 rows x 6 columns]\n",
      " QLD\n",
      "             Date        Time State     Group  Unit  Sales\n",
      "48     1-Oct-2020     Morning   QLD      Kids    20  50000\n",
      "49     1-Oct-2020     Morning   QLD       Men    18  45000\n",
      "50     1-Oct-2020     Morning   QLD     Women    15  37500\n",
      "51     1-Oct-2020     Morning   QLD   Seniors    14  35000\n",
      "52     1-Oct-2020   Afternoon   QLD      Kids    18  45000\n",
      "...           ...         ...   ...       ...   ...    ...\n",
      "7531  30-Dec-2020   Afternoon   QLD   Seniors     9  22500\n",
      "7532  30-Dec-2020     Evening   QLD      Kids    13  32500\n",
      "7533  30-Dec-2020     Evening   QLD       Men    25  62500\n",
      "7534  30-Dec-2020     Evening   QLD     Women    20  50000\n",
      "7535  30-Dec-2020     Evening   QLD   Seniors    18  45000\n",
      "\n",
      "[1080 rows x 6 columns]\n",
      " SA\n",
      "             Date        Time State     Group  Unit  Sales\n",
      "24     1-Oct-2020     Morning    SA      Kids    12  30000\n",
      "25     1-Oct-2020     Morning    SA       Men    12  30000\n",
      "26     1-Oct-2020     Morning    SA     Women    16  40000\n",
      "27     1-Oct-2020     Morning    SA   Seniors    28  70000\n",
      "28     1-Oct-2020   Afternoon    SA      Kids    16  40000\n",
      "...           ...         ...   ...       ...   ...    ...\n",
      "7507  30-Dec-2020   Afternoon    SA   Seniors    19  47500\n",
      "7508  30-Dec-2020     Evening    SA      Kids    31  77500\n",
      "7509  30-Dec-2020     Evening    SA       Men    15  37500\n",
      "7510  30-Dec-2020     Evening    SA     Women    34  85000\n",
      "7511  30-Dec-2020     Evening    SA   Seniors    34  85000\n",
      "\n",
      "[1080 rows x 6 columns]\n",
      " TAS\n",
      "             Date        Time State     Group  Unit  Sales\n",
      "72     1-Oct-2020     Morning   TAS      Kids    13  32500\n",
      "73     1-Oct-2020     Morning   TAS       Men     6  15000\n",
      "74     1-Oct-2020     Morning   TAS     Women     3   7500\n",
      "75     1-Oct-2020     Morning   TAS   Seniors     8  20000\n",
      "76     1-Oct-2020   Afternoon   TAS      Kids     7  17500\n",
      "...           ...         ...   ...       ...   ...    ...\n",
      "7555  30-Dec-2020   Afternoon   TAS   Seniors    14  35000\n",
      "7556  30-Dec-2020     Evening   TAS      Kids    15  37500\n",
      "7557  30-Dec-2020     Evening   TAS       Men    15  37500\n",
      "7558  30-Dec-2020     Evening   TAS     Women    11  27500\n",
      "7559  30-Dec-2020     Evening   TAS   Seniors    13  32500\n",
      "\n",
      "[1080 rows x 6 columns]\n",
      " VIC\n",
      "             Date        Time State     Group  Unit   Sales\n",
      "36     1-Oct-2020     Morning   VIC      Kids    49  122500\n",
      "37     1-Oct-2020     Morning   VIC       Men    36   90000\n",
      "38     1-Oct-2020     Morning   VIC     Women    34   85000\n",
      "39     1-Oct-2020     Morning   VIC   Seniors    26   65000\n",
      "40     1-Oct-2020   Afternoon   VIC      Kids    31   77500\n",
      "...           ...         ...   ...       ...   ...     ...\n",
      "7519  30-Dec-2020   Afternoon   VIC   Seniors    62  155000\n",
      "7520  30-Dec-2020     Evening   VIC      Kids    30   75000\n",
      "7521  30-Dec-2020     Evening   VIC       Men    35   87500\n",
      "7522  30-Dec-2020     Evening   VIC     Women    30   75000\n",
      "7523  30-Dec-2020     Evening   VIC   Seniors    32   80000\n",
      "\n",
      "[1080 rows x 6 columns]\n",
      " WA\n",
      "             Date        Time State     Group  Unit  Sales\n",
      "0      1-Oct-2020     Morning    WA      Kids     8  20000\n",
      "1      1-Oct-2020     Morning    WA       Men     8  20000\n",
      "2      1-Oct-2020     Morning    WA     Women     4  10000\n",
      "3      1-Oct-2020     Morning    WA   Seniors    15  37500\n",
      "4      1-Oct-2020   Afternoon    WA      Kids     3   7500\n",
      "...           ...         ...   ...       ...   ...    ...\n",
      "7483  30-Dec-2020   Afternoon    WA   Seniors    15  37500\n",
      "7484  30-Dec-2020     Evening    WA      Kids     6  15000\n",
      "7485  30-Dec-2020     Evening    WA       Men     6  15000\n",
      "7486  30-Dec-2020     Evening    WA     Women    14  35000\n",
      "7487  30-Dec-2020     Evening    WA   Seniors     9  22500\n",
      "\n",
      "[1080 rows x 6 columns]\n"
     ]
    }
   ],
   "source": [
    "for name, group in grouped:\n",
    "    print(name)\n",
    "    print(group)"
   ]
  },
  {
   "cell_type": "code",
   "execution_count": 38,
   "id": "d7ae63e7",
   "metadata": {
    "execution": {
     "iopub.execute_input": "2024-05-14T10:07:44.955354Z",
     "iopub.status.busy": "2024-05-14T10:07:44.954317Z",
     "iopub.status.idle": "2024-05-14T10:07:44.967856Z",
     "shell.execute_reply": "2024-05-14T10:07:44.966878Z"
    },
    "papermill": {
     "duration": 0.037822,
     "end_time": "2024-05-14T10:07:44.969763",
     "exception": false,
     "start_time": "2024-05-14T10:07:44.931941",
     "status": "completed"
    },
    "tags": []
   },
   "outputs": [
    {
     "data": {
      "text/html": [
       "<div>\n",
       "<style scoped>\n",
       "    .dataframe tbody tr th:only-of-type {\n",
       "        vertical-align: middle;\n",
       "    }\n",
       "\n",
       "    .dataframe tbody tr th {\n",
       "        vertical-align: top;\n",
       "    }\n",
       "\n",
       "    .dataframe thead th {\n",
       "        text-align: right;\n",
       "    }\n",
       "</style>\n",
       "<table border=\"1\" class=\"dataframe\">\n",
       "  <thead>\n",
       "    <tr style=\"text-align: right;\">\n",
       "      <th></th>\n",
       "      <th>Date</th>\n",
       "      <th>Time</th>\n",
       "      <th>Group</th>\n",
       "      <th>Unit</th>\n",
       "      <th>Sales</th>\n",
       "    </tr>\n",
       "    <tr>\n",
       "      <th>State</th>\n",
       "      <th></th>\n",
       "      <th></th>\n",
       "      <th></th>\n",
       "      <th></th>\n",
       "      <th></th>\n",
       "    </tr>\n",
       "  </thead>\n",
       "  <tbody>\n",
       "    <tr>\n",
       "      <th>NSW</th>\n",
       "      <td>1080</td>\n",
       "      <td>1080</td>\n",
       "      <td>1080</td>\n",
       "      <td>1080</td>\n",
       "      <td>1080</td>\n",
       "    </tr>\n",
       "    <tr>\n",
       "      <th>NT</th>\n",
       "      <td>1080</td>\n",
       "      <td>1080</td>\n",
       "      <td>1080</td>\n",
       "      <td>1080</td>\n",
       "      <td>1080</td>\n",
       "    </tr>\n",
       "    <tr>\n",
       "      <th>QLD</th>\n",
       "      <td>1080</td>\n",
       "      <td>1080</td>\n",
       "      <td>1080</td>\n",
       "      <td>1080</td>\n",
       "      <td>1080</td>\n",
       "    </tr>\n",
       "    <tr>\n",
       "      <th>SA</th>\n",
       "      <td>1080</td>\n",
       "      <td>1080</td>\n",
       "      <td>1080</td>\n",
       "      <td>1080</td>\n",
       "      <td>1080</td>\n",
       "    </tr>\n",
       "    <tr>\n",
       "      <th>TAS</th>\n",
       "      <td>1080</td>\n",
       "      <td>1080</td>\n",
       "      <td>1080</td>\n",
       "      <td>1080</td>\n",
       "      <td>1080</td>\n",
       "    </tr>\n",
       "    <tr>\n",
       "      <th>VIC</th>\n",
       "      <td>1080</td>\n",
       "      <td>1080</td>\n",
       "      <td>1080</td>\n",
       "      <td>1080</td>\n",
       "      <td>1080</td>\n",
       "    </tr>\n",
       "    <tr>\n",
       "      <th>WA</th>\n",
       "      <td>1080</td>\n",
       "      <td>1080</td>\n",
       "      <td>1080</td>\n",
       "      <td>1080</td>\n",
       "      <td>1080</td>\n",
       "    </tr>\n",
       "  </tbody>\n",
       "</table>\n",
       "</div>"
      ],
      "text/plain": [
       "       Date  Time  Group  Unit  Sales\n",
       "State                                \n",
       "NSW    1080  1080   1080  1080   1080\n",
       "NT     1080  1080   1080  1080   1080\n",
       "QLD    1080  1080   1080  1080   1080\n",
       "SA     1080  1080   1080  1080   1080\n",
       "TAS    1080  1080   1080  1080   1080\n",
       "VIC    1080  1080   1080  1080   1080\n",
       "WA     1080  1080   1080  1080   1080"
      ]
     },
     "execution_count": 38,
     "metadata": {},
     "output_type": "execute_result"
    }
   ],
   "source": [
    "df.groupby(\"State\").count()"
   ]
  },
  {
   "cell_type": "code",
   "execution_count": 39,
   "id": "48ef3c8d",
   "metadata": {
    "execution": {
     "iopub.execute_input": "2024-05-14T10:07:45.015330Z",
     "iopub.status.busy": "2024-05-14T10:07:45.014951Z",
     "iopub.status.idle": "2024-05-14T10:07:45.024140Z",
     "shell.execute_reply": "2024-05-14T10:07:45.023193Z"
    },
    "papermill": {
     "duration": 0.034446,
     "end_time": "2024-05-14T10:07:45.026316",
     "exception": false,
     "start_time": "2024-05-14T10:07:44.991870",
     "status": "completed"
    },
    "tags": []
   },
   "outputs": [
    {
     "data": {
      "text/plain": [
       "State\n",
       "NSW    1080\n",
       "NT     1080\n",
       "QLD    1080\n",
       "SA     1080\n",
       "TAS    1080\n",
       "VIC    1080\n",
       "WA     1080\n",
       "dtype: int64"
      ]
     },
     "execution_count": 39,
     "metadata": {},
     "output_type": "execute_result"
    }
   ],
   "source": [
    "df.groupby(\"State\").size()"
   ]
  },
  {
   "cell_type": "code",
   "execution_count": 40,
   "id": "56836ca4",
   "metadata": {
    "execution": {
     "iopub.execute_input": "2024-05-14T10:07:45.072568Z",
     "iopub.status.busy": "2024-05-14T10:07:45.071816Z",
     "iopub.status.idle": "2024-05-14T10:07:45.082527Z",
     "shell.execute_reply": "2024-05-14T10:07:45.081578Z"
    },
    "papermill": {
     "duration": 0.035947,
     "end_time": "2024-05-14T10:07:45.084410",
     "exception": false,
     "start_time": "2024-05-14T10:07:45.048463",
     "status": "completed"
    },
    "tags": []
   },
   "outputs": [
    {
     "data": {
      "text/plain": [
       "State\n",
       "NSW    1080\n",
       "NT     1080\n",
       "QLD    1080\n",
       "SA     1080\n",
       "TAS    1080\n",
       "dtype: int64"
      ]
     },
     "execution_count": 40,
     "metadata": {},
     "output_type": "execute_result"
    }
   ],
   "source": [
    "df.groupby(\"State\").size().nlargest()"
   ]
  },
  {
   "cell_type": "code",
   "execution_count": 41,
   "id": "35dfa8c7",
   "metadata": {
    "execution": {
     "iopub.execute_input": "2024-05-14T10:07:45.131431Z",
     "iopub.status.busy": "2024-05-14T10:07:45.130804Z",
     "iopub.status.idle": "2024-05-14T10:07:45.140215Z",
     "shell.execute_reply": "2024-05-14T10:07:45.139200Z"
    },
    "papermill": {
     "duration": 0.034609,
     "end_time": "2024-05-14T10:07:45.142092",
     "exception": false,
     "start_time": "2024-05-14T10:07:45.107483",
     "status": "completed"
    },
    "tags": []
   },
   "outputs": [
    {
     "data": {
      "text/plain": [
       "State\n",
       "NSW    1080\n",
       "NT     1080\n",
       "QLD    1080\n",
       "SA     1080\n",
       "TAS    1080\n",
       "dtype: int64"
      ]
     },
     "execution_count": 41,
     "metadata": {},
     "output_type": "execute_result"
    }
   ],
   "source": [
    "df.groupby(\"State\").size().nsmallest()"
   ]
  },
  {
   "cell_type": "code",
   "execution_count": 42,
   "id": "45d9d950",
   "metadata": {
    "execution": {
     "iopub.execute_input": "2024-05-14T10:07:45.188304Z",
     "iopub.status.busy": "2024-05-14T10:07:45.187675Z",
     "iopub.status.idle": "2024-05-14T10:07:45.194821Z",
     "shell.execute_reply": "2024-05-14T10:07:45.194042Z"
    },
    "papermill": {
     "duration": 0.032632,
     "end_time": "2024-05-14T10:07:45.196840",
     "exception": false,
     "start_time": "2024-05-14T10:07:45.164208",
     "status": "completed"
    },
    "tags": []
   },
   "outputs": [],
   "source": [
    "Q1=df[\"Sales\"].quantile(.25)\n",
    "Q3=df[\"Sales\"].quantile(.75)\n",
    "IQR = Q3-Q1\n",
    "lower_limit= Q1-1.5*IQR\n",
    "higher_limit=Q3+1.5*IQR"
   ]
  },
  {
   "cell_type": "code",
   "execution_count": 43,
   "id": "da1b1a64",
   "metadata": {
    "execution": {
     "iopub.execute_input": "2024-05-14T10:07:45.244223Z",
     "iopub.status.busy": "2024-05-14T10:07:45.243244Z",
     "iopub.status.idle": "2024-05-14T10:07:45.256227Z",
     "shell.execute_reply": "2024-05-14T10:07:45.255466Z"
    },
    "papermill": {
     "duration": 0.038297,
     "end_time": "2024-05-14T10:07:45.258068",
     "exception": false,
     "start_time": "2024-05-14T10:07:45.219771",
     "status": "completed"
    },
    "tags": []
   },
   "outputs": [
    {
     "data": {
      "text/html": [
       "<div>\n",
       "<style scoped>\n",
       "    .dataframe tbody tr th:only-of-type {\n",
       "        vertical-align: middle;\n",
       "    }\n",
       "\n",
       "    .dataframe tbody tr th {\n",
       "        vertical-align: top;\n",
       "    }\n",
       "\n",
       "    .dataframe thead th {\n",
       "        text-align: right;\n",
       "    }\n",
       "</style>\n",
       "<table border=\"1\" class=\"dataframe\">\n",
       "  <thead>\n",
       "    <tr style=\"text-align: right;\">\n",
       "      <th></th>\n",
       "      <th>Date</th>\n",
       "      <th>Time</th>\n",
       "      <th>State</th>\n",
       "      <th>Group</th>\n",
       "      <th>Unit</th>\n",
       "      <th>Sales</th>\n",
       "    </tr>\n",
       "  </thead>\n",
       "  <tbody>\n",
       "    <tr>\n",
       "      <th>0</th>\n",
       "      <td>1-Oct-2020</td>\n",
       "      <td>Morning</td>\n",
       "      <td>WA</td>\n",
       "      <td>Kids</td>\n",
       "      <td>8</td>\n",
       "      <td>20000</td>\n",
       "    </tr>\n",
       "    <tr>\n",
       "      <th>1</th>\n",
       "      <td>1-Oct-2020</td>\n",
       "      <td>Morning</td>\n",
       "      <td>WA</td>\n",
       "      <td>Men</td>\n",
       "      <td>8</td>\n",
       "      <td>20000</td>\n",
       "    </tr>\n",
       "    <tr>\n",
       "      <th>2</th>\n",
       "      <td>1-Oct-2020</td>\n",
       "      <td>Morning</td>\n",
       "      <td>WA</td>\n",
       "      <td>Women</td>\n",
       "      <td>4</td>\n",
       "      <td>10000</td>\n",
       "    </tr>\n",
       "    <tr>\n",
       "      <th>3</th>\n",
       "      <td>1-Oct-2020</td>\n",
       "      <td>Morning</td>\n",
       "      <td>WA</td>\n",
       "      <td>Seniors</td>\n",
       "      <td>15</td>\n",
       "      <td>37500</td>\n",
       "    </tr>\n",
       "    <tr>\n",
       "      <th>4</th>\n",
       "      <td>1-Oct-2020</td>\n",
       "      <td>Afternoon</td>\n",
       "      <td>WA</td>\n",
       "      <td>Kids</td>\n",
       "      <td>3</td>\n",
       "      <td>7500</td>\n",
       "    </tr>\n",
       "    <tr>\n",
       "      <th>...</th>\n",
       "      <td>...</td>\n",
       "      <td>...</td>\n",
       "      <td>...</td>\n",
       "      <td>...</td>\n",
       "      <td>...</td>\n",
       "      <td>...</td>\n",
       "    </tr>\n",
       "    <tr>\n",
       "      <th>7555</th>\n",
       "      <td>30-Dec-2020</td>\n",
       "      <td>Afternoon</td>\n",
       "      <td>TAS</td>\n",
       "      <td>Seniors</td>\n",
       "      <td>14</td>\n",
       "      <td>35000</td>\n",
       "    </tr>\n",
       "    <tr>\n",
       "      <th>7556</th>\n",
       "      <td>30-Dec-2020</td>\n",
       "      <td>Evening</td>\n",
       "      <td>TAS</td>\n",
       "      <td>Kids</td>\n",
       "      <td>15</td>\n",
       "      <td>37500</td>\n",
       "    </tr>\n",
       "    <tr>\n",
       "      <th>7557</th>\n",
       "      <td>30-Dec-2020</td>\n",
       "      <td>Evening</td>\n",
       "      <td>TAS</td>\n",
       "      <td>Men</td>\n",
       "      <td>15</td>\n",
       "      <td>37500</td>\n",
       "    </tr>\n",
       "    <tr>\n",
       "      <th>7558</th>\n",
       "      <td>30-Dec-2020</td>\n",
       "      <td>Evening</td>\n",
       "      <td>TAS</td>\n",
       "      <td>Women</td>\n",
       "      <td>11</td>\n",
       "      <td>27500</td>\n",
       "    </tr>\n",
       "    <tr>\n",
       "      <th>7559</th>\n",
       "      <td>30-Dec-2020</td>\n",
       "      <td>Evening</td>\n",
       "      <td>TAS</td>\n",
       "      <td>Seniors</td>\n",
       "      <td>13</td>\n",
       "      <td>32500</td>\n",
       "    </tr>\n",
       "  </tbody>\n",
       "</table>\n",
       "<p>7560 rows × 6 columns</p>\n",
       "</div>"
      ],
      "text/plain": [
       "             Date        Time State     Group  Unit  Sales\n",
       "0      1-Oct-2020     Morning    WA      Kids     8  20000\n",
       "1      1-Oct-2020     Morning    WA       Men     8  20000\n",
       "2      1-Oct-2020     Morning    WA     Women     4  10000\n",
       "3      1-Oct-2020     Morning    WA   Seniors    15  37500\n",
       "4      1-Oct-2020   Afternoon    WA      Kids     3   7500\n",
       "...           ...         ...   ...       ...   ...    ...\n",
       "7555  30-Dec-2020   Afternoon   TAS   Seniors    14  35000\n",
       "7556  30-Dec-2020     Evening   TAS      Kids    15  37500\n",
       "7557  30-Dec-2020     Evening   TAS       Men    15  37500\n",
       "7558  30-Dec-2020     Evening   TAS     Women    11  27500\n",
       "7559  30-Dec-2020     Evening   TAS   Seniors    13  32500\n",
       "\n",
       "[7560 rows x 6 columns]"
      ]
     },
     "execution_count": 43,
     "metadata": {},
     "output_type": "execute_result"
    }
   ],
   "source": [
    "df[(df[\"Sales\"]>lower_limit) | (df[\"Sales\"]<higher_limit)]"
   ]
  },
  {
   "cell_type": "code",
   "execution_count": 44,
   "id": "042f8999",
   "metadata": {
    "execution": {
     "iopub.execute_input": "2024-05-14T10:07:45.305726Z",
     "iopub.status.busy": "2024-05-14T10:07:45.304749Z",
     "iopub.status.idle": "2024-05-14T10:07:45.316000Z",
     "shell.execute_reply": "2024-05-14T10:07:45.315269Z"
    },
    "papermill": {
     "duration": 0.037112,
     "end_time": "2024-05-14T10:07:45.318035",
     "exception": false,
     "start_time": "2024-05-14T10:07:45.280923",
     "status": "completed"
    },
    "tags": []
   },
   "outputs": [],
   "source": [
    "df['Date']= pd.to_datetime(df[\"Date\"])"
   ]
  },
  {
   "cell_type": "code",
   "execution_count": 45,
   "id": "6d1a11b6",
   "metadata": {
    "execution": {
     "iopub.execute_input": "2024-05-14T10:07:45.365320Z",
     "iopub.status.busy": "2024-05-14T10:07:45.364425Z",
     "iopub.status.idle": "2024-05-14T10:07:45.372073Z",
     "shell.execute_reply": "2024-05-14T10:07:45.371007Z"
    },
    "papermill": {
     "duration": 0.033747,
     "end_time": "2024-05-14T10:07:45.374405",
     "exception": false,
     "start_time": "2024-05-14T10:07:45.340658",
     "status": "completed"
    },
    "tags": []
   },
   "outputs": [
    {
     "data": {
      "text/plain": [
       "Date     datetime64[ns]\n",
       "Time             object\n",
       "State            object\n",
       "Group            object\n",
       "Unit              int64\n",
       "Sales             int64\n",
       "dtype: object"
      ]
     },
     "execution_count": 45,
     "metadata": {},
     "output_type": "execute_result"
    }
   ],
   "source": [
    "df.dtypes"
   ]
  },
  {
   "cell_type": "code",
   "execution_count": 46,
   "id": "8c1e3457",
   "metadata": {
    "execution": {
     "iopub.execute_input": "2024-05-14T10:07:45.423460Z",
     "iopub.status.busy": "2024-05-14T10:07:45.422708Z",
     "iopub.status.idle": "2024-05-14T10:07:45.432269Z",
     "shell.execute_reply": "2024-05-14T10:07:45.431384Z"
    },
    "papermill": {
     "duration": 0.036745,
     "end_time": "2024-05-14T10:07:45.434486",
     "exception": false,
     "start_time": "2024-05-14T10:07:45.397741",
     "status": "completed"
    },
    "tags": []
   },
   "outputs": [
    {
     "data": {
      "text/plain": [
       "0       202.000000\n",
       "1       202.000000\n",
       "2       202.000000\n",
       "3       202.000000\n",
       "4       202.000000\n",
       "           ...    \n",
       "7555    168.333333\n",
       "7556    168.333333\n",
       "7557    168.333333\n",
       "7558    168.333333\n",
       "7559    168.333333\n",
       "Name: Date, Length: 7560, dtype: float64"
      ]
     },
     "execution_count": 46,
     "metadata": {},
     "output_type": "execute_result"
    }
   ],
   "source": [
    "df[\"Date\"].dt.year/df[\"Date\"].dt.month"
   ]
  },
  {
   "cell_type": "code",
   "execution_count": 47,
   "id": "7a67b521",
   "metadata": {
    "execution": {
     "iopub.execute_input": "2024-05-14T10:07:45.483819Z",
     "iopub.status.busy": "2024-05-14T10:07:45.483429Z",
     "iopub.status.idle": "2024-05-14T10:07:45.489395Z",
     "shell.execute_reply": "2024-05-14T10:07:45.488499Z"
    },
    "papermill": {
     "duration": 0.032779,
     "end_time": "2024-05-14T10:07:45.491389",
     "exception": false,
     "start_time": "2024-05-14T10:07:45.458610",
     "status": "completed"
    },
    "tags": []
   },
   "outputs": [],
   "source": [
    "df[\"Month\"]= df[\"Date\"].dt.month"
   ]
  },
  {
   "cell_type": "code",
   "execution_count": 48,
   "id": "bb69de98",
   "metadata": {
    "execution": {
     "iopub.execute_input": "2024-05-14T10:07:45.539866Z",
     "iopub.status.busy": "2024-05-14T10:07:45.539201Z",
     "iopub.status.idle": "2024-05-14T10:07:45.544599Z",
     "shell.execute_reply": "2024-05-14T10:07:45.543474Z"
    },
    "papermill": {
     "duration": 0.031742,
     "end_time": "2024-05-14T10:07:45.546680",
     "exception": false,
     "start_time": "2024-05-14T10:07:45.514938",
     "status": "completed"
    },
    "tags": []
   },
   "outputs": [],
   "source": [
    "df[\"Year\"]= df[\"Date\"].dt.year"
   ]
  },
  {
   "cell_type": "code",
   "execution_count": 49,
   "id": "969ac413",
   "metadata": {
    "execution": {
     "iopub.execute_input": "2024-05-14T10:07:45.595204Z",
     "iopub.status.busy": "2024-05-14T10:07:45.594851Z",
     "iopub.status.idle": "2024-05-14T10:07:45.600016Z",
     "shell.execute_reply": "2024-05-14T10:07:45.599128Z"
    },
    "papermill": {
     "duration": 0.031272,
     "end_time": "2024-05-14T10:07:45.602075",
     "exception": false,
     "start_time": "2024-05-14T10:07:45.570803",
     "status": "completed"
    },
    "tags": []
   },
   "outputs": [],
   "source": [
    "df[\"DayOfWeek\"]=df[\"Date\"].dt.dayofweek"
   ]
  },
  {
   "cell_type": "code",
   "execution_count": 50,
   "id": "0019e232",
   "metadata": {
    "execution": {
     "iopub.execute_input": "2024-05-14T10:07:45.649720Z",
     "iopub.status.busy": "2024-05-14T10:07:45.649376Z",
     "iopub.status.idle": "2024-05-14T10:07:45.663080Z",
     "shell.execute_reply": "2024-05-14T10:07:45.662334Z"
    },
    "papermill": {
     "duration": 0.039713,
     "end_time": "2024-05-14T10:07:45.664855",
     "exception": false,
     "start_time": "2024-05-14T10:07:45.625142",
     "status": "completed"
    },
    "tags": []
   },
   "outputs": [
    {
     "data": {
      "text/html": [
       "<div>\n",
       "<style scoped>\n",
       "    .dataframe tbody tr th:only-of-type {\n",
       "        vertical-align: middle;\n",
       "    }\n",
       "\n",
       "    .dataframe tbody tr th {\n",
       "        vertical-align: top;\n",
       "    }\n",
       "\n",
       "    .dataframe thead th {\n",
       "        text-align: right;\n",
       "    }\n",
       "</style>\n",
       "<table border=\"1\" class=\"dataframe\">\n",
       "  <thead>\n",
       "    <tr style=\"text-align: right;\">\n",
       "      <th></th>\n",
       "      <th>Date</th>\n",
       "      <th>Time</th>\n",
       "      <th>State</th>\n",
       "      <th>Group</th>\n",
       "      <th>Unit</th>\n",
       "      <th>Sales</th>\n",
       "      <th>Month</th>\n",
       "      <th>Year</th>\n",
       "      <th>DayOfWeek</th>\n",
       "    </tr>\n",
       "  </thead>\n",
       "  <tbody>\n",
       "    <tr>\n",
       "      <th>0</th>\n",
       "      <td>2020-10-01</td>\n",
       "      <td>Morning</td>\n",
       "      <td>WA</td>\n",
       "      <td>Kids</td>\n",
       "      <td>8</td>\n",
       "      <td>20000</td>\n",
       "      <td>10</td>\n",
       "      <td>2020</td>\n",
       "      <td>3</td>\n",
       "    </tr>\n",
       "    <tr>\n",
       "      <th>1</th>\n",
       "      <td>2020-10-01</td>\n",
       "      <td>Morning</td>\n",
       "      <td>WA</td>\n",
       "      <td>Men</td>\n",
       "      <td>8</td>\n",
       "      <td>20000</td>\n",
       "      <td>10</td>\n",
       "      <td>2020</td>\n",
       "      <td>3</td>\n",
       "    </tr>\n",
       "    <tr>\n",
       "      <th>2</th>\n",
       "      <td>2020-10-01</td>\n",
       "      <td>Morning</td>\n",
       "      <td>WA</td>\n",
       "      <td>Women</td>\n",
       "      <td>4</td>\n",
       "      <td>10000</td>\n",
       "      <td>10</td>\n",
       "      <td>2020</td>\n",
       "      <td>3</td>\n",
       "    </tr>\n",
       "    <tr>\n",
       "      <th>3</th>\n",
       "      <td>2020-10-01</td>\n",
       "      <td>Morning</td>\n",
       "      <td>WA</td>\n",
       "      <td>Seniors</td>\n",
       "      <td>15</td>\n",
       "      <td>37500</td>\n",
       "      <td>10</td>\n",
       "      <td>2020</td>\n",
       "      <td>3</td>\n",
       "    </tr>\n",
       "    <tr>\n",
       "      <th>4</th>\n",
       "      <td>2020-10-01</td>\n",
       "      <td>Afternoon</td>\n",
       "      <td>WA</td>\n",
       "      <td>Kids</td>\n",
       "      <td>3</td>\n",
       "      <td>7500</td>\n",
       "      <td>10</td>\n",
       "      <td>2020</td>\n",
       "      <td>3</td>\n",
       "    </tr>\n",
       "    <tr>\n",
       "      <th>...</th>\n",
       "      <td>...</td>\n",
       "      <td>...</td>\n",
       "      <td>...</td>\n",
       "      <td>...</td>\n",
       "      <td>...</td>\n",
       "      <td>...</td>\n",
       "      <td>...</td>\n",
       "      <td>...</td>\n",
       "      <td>...</td>\n",
       "    </tr>\n",
       "    <tr>\n",
       "      <th>7555</th>\n",
       "      <td>2020-12-30</td>\n",
       "      <td>Afternoon</td>\n",
       "      <td>TAS</td>\n",
       "      <td>Seniors</td>\n",
       "      <td>14</td>\n",
       "      <td>35000</td>\n",
       "      <td>12</td>\n",
       "      <td>2020</td>\n",
       "      <td>2</td>\n",
       "    </tr>\n",
       "    <tr>\n",
       "      <th>7556</th>\n",
       "      <td>2020-12-30</td>\n",
       "      <td>Evening</td>\n",
       "      <td>TAS</td>\n",
       "      <td>Kids</td>\n",
       "      <td>15</td>\n",
       "      <td>37500</td>\n",
       "      <td>12</td>\n",
       "      <td>2020</td>\n",
       "      <td>2</td>\n",
       "    </tr>\n",
       "    <tr>\n",
       "      <th>7557</th>\n",
       "      <td>2020-12-30</td>\n",
       "      <td>Evening</td>\n",
       "      <td>TAS</td>\n",
       "      <td>Men</td>\n",
       "      <td>15</td>\n",
       "      <td>37500</td>\n",
       "      <td>12</td>\n",
       "      <td>2020</td>\n",
       "      <td>2</td>\n",
       "    </tr>\n",
       "    <tr>\n",
       "      <th>7558</th>\n",
       "      <td>2020-12-30</td>\n",
       "      <td>Evening</td>\n",
       "      <td>TAS</td>\n",
       "      <td>Women</td>\n",
       "      <td>11</td>\n",
       "      <td>27500</td>\n",
       "      <td>12</td>\n",
       "      <td>2020</td>\n",
       "      <td>2</td>\n",
       "    </tr>\n",
       "    <tr>\n",
       "      <th>7559</th>\n",
       "      <td>2020-12-30</td>\n",
       "      <td>Evening</td>\n",
       "      <td>TAS</td>\n",
       "      <td>Seniors</td>\n",
       "      <td>13</td>\n",
       "      <td>32500</td>\n",
       "      <td>12</td>\n",
       "      <td>2020</td>\n",
       "      <td>2</td>\n",
       "    </tr>\n",
       "  </tbody>\n",
       "</table>\n",
       "<p>7560 rows × 9 columns</p>\n",
       "</div>"
      ],
      "text/plain": [
       "           Date        Time State     Group  Unit  Sales  Month  Year  \\\n",
       "0    2020-10-01     Morning    WA      Kids     8  20000     10  2020   \n",
       "1    2020-10-01     Morning    WA       Men     8  20000     10  2020   \n",
       "2    2020-10-01     Morning    WA     Women     4  10000     10  2020   \n",
       "3    2020-10-01     Morning    WA   Seniors    15  37500     10  2020   \n",
       "4    2020-10-01   Afternoon    WA      Kids     3   7500     10  2020   \n",
       "...         ...         ...   ...       ...   ...    ...    ...   ...   \n",
       "7555 2020-12-30   Afternoon   TAS   Seniors    14  35000     12  2020   \n",
       "7556 2020-12-30     Evening   TAS      Kids    15  37500     12  2020   \n",
       "7557 2020-12-30     Evening   TAS       Men    15  37500     12  2020   \n",
       "7558 2020-12-30     Evening   TAS     Women    11  27500     12  2020   \n",
       "7559 2020-12-30     Evening   TAS   Seniors    13  32500     12  2020   \n",
       "\n",
       "      DayOfWeek  \n",
       "0             3  \n",
       "1             3  \n",
       "2             3  \n",
       "3             3  \n",
       "4             3  \n",
       "...         ...  \n",
       "7555          2  \n",
       "7556          2  \n",
       "7557          2  \n",
       "7558          2  \n",
       "7559          2  \n",
       "\n",
       "[7560 rows x 9 columns]"
      ]
     },
     "execution_count": 50,
     "metadata": {},
     "output_type": "execute_result"
    }
   ],
   "source": [
    "df"
   ]
  },
  {
   "cell_type": "code",
   "execution_count": 51,
   "id": "2b7bca63",
   "metadata": {
    "execution": {
     "iopub.execute_input": "2024-05-14T10:07:45.714097Z",
     "iopub.status.busy": "2024-05-14T10:07:45.713414Z",
     "iopub.status.idle": "2024-05-14T10:07:45.717921Z",
     "shell.execute_reply": "2024-05-14T10:07:45.717224Z"
    },
    "papermill": {
     "duration": 0.031352,
     "end_time": "2024-05-14T10:07:45.719791",
     "exception": false,
     "start_time": "2024-05-14T10:07:45.688439",
     "status": "completed"
    },
    "tags": []
   },
   "outputs": [],
   "source": [
    "df.set_index(\"Date\", inplace=True)"
   ]
  },
  {
   "cell_type": "code",
   "execution_count": 52,
   "id": "6e718d55",
   "metadata": {
    "execution": {
     "iopub.execute_input": "2024-05-14T10:07:45.769296Z",
     "iopub.status.busy": "2024-05-14T10:07:45.768912Z",
     "iopub.status.idle": "2024-05-14T10:07:45.782142Z",
     "shell.execute_reply": "2024-05-14T10:07:45.781443Z"
    },
    "papermill": {
     "duration": 0.039101,
     "end_time": "2024-05-14T10:07:45.783895",
     "exception": false,
     "start_time": "2024-05-14T10:07:45.744794",
     "status": "completed"
    },
    "tags": []
   },
   "outputs": [
    {
     "data": {
      "text/html": [
       "<div>\n",
       "<style scoped>\n",
       "    .dataframe tbody tr th:only-of-type {\n",
       "        vertical-align: middle;\n",
       "    }\n",
       "\n",
       "    .dataframe tbody tr th {\n",
       "        vertical-align: top;\n",
       "    }\n",
       "\n",
       "    .dataframe thead th {\n",
       "        text-align: right;\n",
       "    }\n",
       "</style>\n",
       "<table border=\"1\" class=\"dataframe\">\n",
       "  <thead>\n",
       "    <tr style=\"text-align: right;\">\n",
       "      <th></th>\n",
       "      <th>Time</th>\n",
       "      <th>State</th>\n",
       "      <th>Group</th>\n",
       "      <th>Unit</th>\n",
       "      <th>Sales</th>\n",
       "      <th>Month</th>\n",
       "      <th>Year</th>\n",
       "      <th>DayOfWeek</th>\n",
       "    </tr>\n",
       "    <tr>\n",
       "      <th>Date</th>\n",
       "      <th></th>\n",
       "      <th></th>\n",
       "      <th></th>\n",
       "      <th></th>\n",
       "      <th></th>\n",
       "      <th></th>\n",
       "      <th></th>\n",
       "      <th></th>\n",
       "    </tr>\n",
       "  </thead>\n",
       "  <tbody>\n",
       "    <tr>\n",
       "      <th>2020-10-01</th>\n",
       "      <td>Morning</td>\n",
       "      <td>WA</td>\n",
       "      <td>Kids</td>\n",
       "      <td>8</td>\n",
       "      <td>20000</td>\n",
       "      <td>10</td>\n",
       "      <td>2020</td>\n",
       "      <td>3</td>\n",
       "    </tr>\n",
       "    <tr>\n",
       "      <th>2020-10-01</th>\n",
       "      <td>Morning</td>\n",
       "      <td>WA</td>\n",
       "      <td>Men</td>\n",
       "      <td>8</td>\n",
       "      <td>20000</td>\n",
       "      <td>10</td>\n",
       "      <td>2020</td>\n",
       "      <td>3</td>\n",
       "    </tr>\n",
       "    <tr>\n",
       "      <th>2020-10-01</th>\n",
       "      <td>Morning</td>\n",
       "      <td>WA</td>\n",
       "      <td>Women</td>\n",
       "      <td>4</td>\n",
       "      <td>10000</td>\n",
       "      <td>10</td>\n",
       "      <td>2020</td>\n",
       "      <td>3</td>\n",
       "    </tr>\n",
       "    <tr>\n",
       "      <th>2020-10-01</th>\n",
       "      <td>Morning</td>\n",
       "      <td>WA</td>\n",
       "      <td>Seniors</td>\n",
       "      <td>15</td>\n",
       "      <td>37500</td>\n",
       "      <td>10</td>\n",
       "      <td>2020</td>\n",
       "      <td>3</td>\n",
       "    </tr>\n",
       "    <tr>\n",
       "      <th>2020-10-01</th>\n",
       "      <td>Afternoon</td>\n",
       "      <td>WA</td>\n",
       "      <td>Kids</td>\n",
       "      <td>3</td>\n",
       "      <td>7500</td>\n",
       "      <td>10</td>\n",
       "      <td>2020</td>\n",
       "      <td>3</td>\n",
       "    </tr>\n",
       "    <tr>\n",
       "      <th>...</th>\n",
       "      <td>...</td>\n",
       "      <td>...</td>\n",
       "      <td>...</td>\n",
       "      <td>...</td>\n",
       "      <td>...</td>\n",
       "      <td>...</td>\n",
       "      <td>...</td>\n",
       "      <td>...</td>\n",
       "    </tr>\n",
       "    <tr>\n",
       "      <th>2020-12-30</th>\n",
       "      <td>Afternoon</td>\n",
       "      <td>TAS</td>\n",
       "      <td>Seniors</td>\n",
       "      <td>14</td>\n",
       "      <td>35000</td>\n",
       "      <td>12</td>\n",
       "      <td>2020</td>\n",
       "      <td>2</td>\n",
       "    </tr>\n",
       "    <tr>\n",
       "      <th>2020-12-30</th>\n",
       "      <td>Evening</td>\n",
       "      <td>TAS</td>\n",
       "      <td>Kids</td>\n",
       "      <td>15</td>\n",
       "      <td>37500</td>\n",
       "      <td>12</td>\n",
       "      <td>2020</td>\n",
       "      <td>2</td>\n",
       "    </tr>\n",
       "    <tr>\n",
       "      <th>2020-12-30</th>\n",
       "      <td>Evening</td>\n",
       "      <td>TAS</td>\n",
       "      <td>Men</td>\n",
       "      <td>15</td>\n",
       "      <td>37500</td>\n",
       "      <td>12</td>\n",
       "      <td>2020</td>\n",
       "      <td>2</td>\n",
       "    </tr>\n",
       "    <tr>\n",
       "      <th>2020-12-30</th>\n",
       "      <td>Evening</td>\n",
       "      <td>TAS</td>\n",
       "      <td>Women</td>\n",
       "      <td>11</td>\n",
       "      <td>27500</td>\n",
       "      <td>12</td>\n",
       "      <td>2020</td>\n",
       "      <td>2</td>\n",
       "    </tr>\n",
       "    <tr>\n",
       "      <th>2020-12-30</th>\n",
       "      <td>Evening</td>\n",
       "      <td>TAS</td>\n",
       "      <td>Seniors</td>\n",
       "      <td>13</td>\n",
       "      <td>32500</td>\n",
       "      <td>12</td>\n",
       "      <td>2020</td>\n",
       "      <td>2</td>\n",
       "    </tr>\n",
       "  </tbody>\n",
       "</table>\n",
       "<p>7560 rows × 8 columns</p>\n",
       "</div>"
      ],
      "text/plain": [
       "                  Time State     Group  Unit  Sales  Month  Year  DayOfWeek\n",
       "Date                                                                       \n",
       "2020-10-01     Morning    WA      Kids     8  20000     10  2020          3\n",
       "2020-10-01     Morning    WA       Men     8  20000     10  2020          3\n",
       "2020-10-01     Morning    WA     Women     4  10000     10  2020          3\n",
       "2020-10-01     Morning    WA   Seniors    15  37500     10  2020          3\n",
       "2020-10-01   Afternoon    WA      Kids     3   7500     10  2020          3\n",
       "...                ...   ...       ...   ...    ...    ...   ...        ...\n",
       "2020-12-30   Afternoon   TAS   Seniors    14  35000     12  2020          2\n",
       "2020-12-30     Evening   TAS      Kids    15  37500     12  2020          2\n",
       "2020-12-30     Evening   TAS       Men    15  37500     12  2020          2\n",
       "2020-12-30     Evening   TAS     Women    11  27500     12  2020          2\n",
       "2020-12-30     Evening   TAS   Seniors    13  32500     12  2020          2\n",
       "\n",
       "[7560 rows x 8 columns]"
      ]
     },
     "execution_count": 52,
     "metadata": {},
     "output_type": "execute_result"
    }
   ],
   "source": [
    "df"
   ]
  },
  {
   "cell_type": "code",
   "execution_count": 53,
   "id": "3c7095c1",
   "metadata": {
    "execution": {
     "iopub.execute_input": "2024-05-14T10:07:45.833742Z",
     "iopub.status.busy": "2024-05-14T10:07:45.832643Z",
     "iopub.status.idle": "2024-05-14T10:07:46.899377Z",
     "shell.execute_reply": "2024-05-14T10:07:46.898277Z"
    },
    "papermill": {
     "duration": 1.09493,
     "end_time": "2024-05-14T10:07:46.902264",
     "exception": false,
     "start_time": "2024-05-14T10:07:45.807334",
     "status": "completed"
    },
    "tags": []
   },
   "outputs": [
    {
     "data": {
      "text/plain": [
       "<Axes: xlabel='Date'>"
      ]
     },
     "execution_count": 53,
     "metadata": {},
     "output_type": "execute_result"
    },
    {
     "data": {
      "image/png": "[encoded data removed]",
      "text/plain": [
       "<Figure size 640x480 with 1 Axes>"
      ]
     },
     "metadata": {},
     "output_type": "display_data"
    }
   ],
   "source": [
    "df.resample(\"D\")[\"Sales\"].sum().plot(kind='bar')"
   ]
  },
  {
   "cell_type": "code",
   "execution_count": 54,
   "id": "56d3711a",
   "metadata": {
    "execution": {
     "iopub.execute_input": "2024-05-14T10:07:46.954487Z",
     "iopub.status.busy": "2024-05-14T10:07:46.954097Z",
     "iopub.status.idle": "2024-05-14T10:07:47.180991Z",
     "shell.execute_reply": "2024-05-14T10:07:47.179867Z"
    },
    "papermill": {
     "duration": 0.255322,
     "end_time": "2024-05-14T10:07:47.183282",
     "exception": false,
     "start_time": "2024-05-14T10:07:46.927960",
     "status": "completed"
    },
    "tags": []
   },
   "outputs": [
    {
     "name": "stderr",
     "output_type": "stream",
     "text": [
      "/tmp/ipykernel_18/4161553345.py:1: FutureWarning: 'M' is deprecated and will be removed in a future version, please use 'ME' instead.\n",
      "  df.resample(\"M\")[\"Sales\"].sum().plot(kind='bar')\n"
     ]
    },
    {
     "data": {
      "text/plain": [
       "<Axes: xlabel='Date'>"
      ]
     },
     "execution_count": 54,
     "metadata": {},
     "output_type": "execute_result"
    },
    {
     "data": {
      "image/png": "[encoded data removed]",
      "text/plain": [
       "<Figure size 640x480 with 1 Axes>"
      ]
     },
     "metadata": {},
     "output_type": "display_data"
    }
   ],
   "source": [
    "df.resample(\"M\")[\"Sales\"].sum().plot(kind='bar')"
   ]
  },
  {
   "cell_type": "code",
   "execution_count": 55,
   "id": "7a0a068c",
   "metadata": {
    "execution": {
     "iopub.execute_input": "2024-05-14T10:07:47.235305Z",
     "iopub.status.busy": "2024-05-14T10:07:47.234685Z",
     "iopub.status.idle": "2024-05-14T10:07:47.444412Z",
     "shell.execute_reply": "2024-05-14T10:07:47.443403Z"
    },
    "papermill": {
     "duration": 0.237975,
     "end_time": "2024-05-14T10:07:47.446701",
     "exception": false,
     "start_time": "2024-05-14T10:07:47.208726",
     "status": "completed"
    },
    "tags": []
   },
   "outputs": [
    {
     "name": "stderr",
     "output_type": "stream",
     "text": [
      "/tmp/ipykernel_18/1817449951.py:1: FutureWarning: 'y' is deprecated and will be removed in a future version, please use 'YE' instead.\n",
      "  df.resample(\"y\")[\"Sales\"].sum().plot(kind='bar')\n"
     ]
    },
    {
     "data": {
      "text/plain": [
       "<Axes: xlabel='Date'>"
      ]
     },
     "execution_count": 55,
     "metadata": {},
     "output_type": "execute_result"
    },
    {
     "data": {
      "image/png": "[encoded data removed]",
      "text/plain": [
       "<Figure size 640x480 with 1 Axes>"
      ]
     },
     "metadata": {},
     "output_type": "display_data"
    }
   ],
   "source": [
    "df.resample(\"y\")[\"Sales\"].sum().plot(kind='bar')"
   ]
  },
  {
   "cell_type": "code",
   "execution_count": 56,
   "id": "5e78d72b",
   "metadata": {
    "execution": {
     "iopub.execute_input": "2024-05-14T10:07:47.504615Z",
     "iopub.status.busy": "2024-05-14T10:07:47.503401Z",
     "iopub.status.idle": "2024-05-14T10:07:47.780873Z",
     "shell.execute_reply": "2024-05-14T10:07:47.779802Z"
    },
    "papermill": {
     "duration": 0.310844,
     "end_time": "2024-05-14T10:07:47.783860",
     "exception": false,
     "start_time": "2024-05-14T10:07:47.473016",
     "status": "completed"
    },
    "tags": []
   },
   "outputs": [
    {
     "data": {
      "text/plain": [
       "<Axes: xlabel='Date'>"
      ]
     },
     "execution_count": 56,
     "metadata": {},
     "output_type": "execute_result"
    },
    {
     "data": {
      "image/png": "[encoded data removed]",
      "text/plain": [
       "<Figure size 640x480 with 1 Axes>"
      ]
     },
     "metadata": {},
     "output_type": "display_data"
    }
   ],
   "source": [
    "df.resample(\"7D\")[\"Sales\"].sum().plot(kind='bar')"
   ]
  },
  {
   "cell_type": "code",
   "execution_count": 57,
   "id": "77fc8e97",
   "metadata": {
    "execution": {
     "iopub.execute_input": "2024-05-14T10:07:47.839510Z",
     "iopub.status.busy": "2024-05-14T10:07:47.838762Z",
     "iopub.status.idle": "2024-05-14T10:07:48.203524Z",
     "shell.execute_reply": "2024-05-14T10:07:48.202437Z"
    },
    "papermill": {
     "duration": 0.394974,
     "end_time": "2024-05-14T10:07:48.205655",
     "exception": false,
     "start_time": "2024-05-14T10:07:47.810681",
     "status": "completed"
    },
    "tags": []
   },
   "outputs": [
    {
     "data": {
      "text/plain": [
       "<Axes: ylabel='Frequency'>"
      ]
     },
     "execution_count": 57,
     "metadata": {},
     "output_type": "execute_result"
    },
    {
     "data": {
      "image/png": "[encoded data removed]",
      "text/plain": [
       "<Figure size 640x480 with 1 Axes>"
      ]
     },
     "metadata": {},
     "output_type": "display_data"
    }
   ],
   "source": [
    "df.resample(\"W\").sum(\"Sales\").sort_values(by=\"Sales\", ascending=False).plot(kind='hist')"
   ]
  },
  {
   "cell_type": "code",
   "execution_count": 58,
   "id": "7e571e17",
   "metadata": {
    "execution": {
     "iopub.execute_input": "2024-05-14T10:07:48.260113Z",
     "iopub.status.busy": "2024-05-14T10:07:48.259391Z",
     "iopub.status.idle": "2024-05-14T10:07:48.519823Z",
     "shell.execute_reply": "2024-05-14T10:07:48.518893Z"
    },
    "papermill": {
     "duration": 0.290188,
     "end_time": "2024-05-14T10:07:48.522050",
     "exception": false,
     "start_time": "2024-05-14T10:07:48.231862",
     "status": "completed"
    },
    "tags": []
   },
   "outputs": [
    {
     "data": {
      "text/plain": [
       "<Axes: >"
      ]
     },
     "execution_count": 58,
     "metadata": {},
     "output_type": "execute_result"
    },
    {
     "data": {
      "image/png": "[encoded data removed]",
      "text/plain": [
       "<Figure size 640x480 with 1 Axes>"
      ]
     },
     "metadata": {},
     "output_type": "display_data"
    }
   ],
   "source": [
    "df.resample(\"W\").sum(\"Sales\").sort_values(by=\"Sales\", ascending=False).plot(kind='box')"
   ]
  },
  {
   "cell_type": "code",
   "execution_count": 59,
   "id": "6af5cd6e",
   "metadata": {
    "execution": {
     "iopub.execute_input": "2024-05-14T10:07:48.581874Z",
     "iopub.status.busy": "2024-05-14T10:07:48.580790Z",
     "iopub.status.idle": "2024-05-14T10:08:06.884473Z",
     "shell.execute_reply": "2024-05-14T10:08:06.883639Z"
    },
    "papermill": {
     "duration": 18.339796,
     "end_time": "2024-05-14T10:08:06.888992",
     "exception": false,
     "start_time": "2024-05-14T10:07:48.549196",
     "status": "completed"
    },
    "tags": []
   },
   "outputs": [
    {
     "name": "stderr",
     "output_type": "stream",
     "text": [
      "/opt/conda/lib/python3.10/site-packages/seaborn/_oldcore.py:1119: FutureWarning: use_inf_as_na option is deprecated and will be removed in a future version. Convert inf values to NaN before operating instead.\n",
      "  with pd.option_context('mode.use_inf_as_na', True):\n",
      "/opt/conda/lib/python3.10/site-packages/seaborn/_oldcore.py:1119: FutureWarning: use_inf_as_na option is deprecated and will be removed in a future version. Convert inf values to NaN before operating instead.\n",
      "  with pd.option_context('mode.use_inf_as_na', True):\n",
      "/opt/conda/lib/python3.10/site-packages/seaborn/_oldcore.py:1119: FutureWarning: use_inf_as_na option is deprecated and will be removed in a future version. Convert inf values to NaN before operating instead.\n",
      "  with pd.option_context('mode.use_inf_as_na', True):\n",
      "/opt/conda/lib/python3.10/site-packages/seaborn/_oldcore.py:1119: FutureWarning: use_inf_as_na option is deprecated and will be removed in a future version. Convert inf values to NaN before operating instead.\n",
      "  with pd.option_context('mode.use_inf_as_na', True):\n",
      "/opt/conda/lib/python3.10/site-packages/seaborn/_oldcore.py:1119: FutureWarning: use_inf_as_na option is deprecated and will be removed in a future version. Convert inf values to NaN before operating instead.\n",
      "  with pd.option_context('mode.use_inf_as_na', True):\n",
      "/opt/conda/lib/python3.10/site-packages/seaborn/_oldcore.py:1119: FutureWarning: use_inf_as_na option is deprecated and will be removed in a future version. Convert inf values to NaN before operating instead.\n",
      "  with pd.option_context('mode.use_inf_as_na', True):\n",
      "/opt/conda/lib/python3.10/site-packages/seaborn/_oldcore.py:1119: FutureWarning: use_inf_as_na option is deprecated and will be removed in a future version. Convert inf values to NaN before operating instead.\n",
      "  with pd.option_context('mode.use_inf_as_na', True):\n",
      "/opt/conda/lib/python3.10/site-packages/seaborn/_oldcore.py:1119: FutureWarning: use_inf_as_na option is deprecated and will be removed in a future version. Convert inf values to NaN before operating instead.\n",
      "  with pd.option_context('mode.use_inf_as_na', True):\n"
     ]
    },
    {
     "data": {
      "text/plain": [
       "<seaborn.axisgrid.PairGrid at 0x7e3896dcffd0>"
      ]
     },
     "execution_count": 59,
     "metadata": {},
     "output_type": "execute_result"
    },
    {
     "data": {
      "image/png": "[encoded data removed]",
      "text/plain": [
       "<Figure size 2000x2000 with 72 Axes>"
      ]
     },
     "metadata": {},
     "output_type": "display_data"
    }
   ],
   "source": [
    "sns.pairplot(df,vars=df.columns)"
   ]
  },
  {
   "cell_type": "code",
   "execution_count": 60,
   "id": "400a3c72",
   "metadata": {
    "execution": {
     "iopub.execute_input": "2024-05-14T10:08:06.954711Z",
     "iopub.status.busy": "2024-05-14T10:08:06.953677Z",
     "iopub.status.idle": "2024-05-14T10:08:06.960639Z",
     "shell.execute_reply": "2024-05-14T10:08:06.959624Z"
    },
    "papermill": {
     "duration": 0.041539,
     "end_time": "2024-05-14T10:08:06.962527",
     "exception": false,
     "start_time": "2024-05-14T10:08:06.920988",
     "status": "completed"
    },
    "tags": []
   },
   "outputs": [
    {
     "data": {
      "text/plain": [
       "Index(['Time', 'State', 'Group', 'Unit', 'Sales', 'Month', 'Year',\n",
       "       'DayOfWeek'],\n",
       "      dtype='object')"
      ]
     },
     "execution_count": 60,
     "metadata": {},
     "output_type": "execute_result"
    }
   ],
   "source": [
    "df.columns"
   ]
  },
  {
   "cell_type": "code",
   "execution_count": 61,
   "id": "ecc8542a",
   "metadata": {
    "execution": {
     "iopub.execute_input": "2024-05-14T10:08:07.027247Z",
     "iopub.status.busy": "2024-05-14T10:08:07.026867Z",
     "iopub.status.idle": "2024-05-14T10:08:07.388089Z",
     "shell.execute_reply": "2024-05-14T10:08:07.386838Z"
    },
    "papermill": {
     "duration": 0.39629,
     "end_time": "2024-05-14T10:08:07.390543",
     "exception": false,
     "start_time": "2024-05-14T10:08:06.994253",
     "status": "completed"
    },
    "tags": []
   },
   "outputs": [
    {
     "name": "stderr",
     "output_type": "stream",
     "text": [
      "/opt/conda/lib/python3.10/site-packages/seaborn/_oldcore.py:1119: FutureWarning: use_inf_as_na option is deprecated and will be removed in a future version. Convert inf values to NaN before operating instead.\n",
      "  with pd.option_context('mode.use_inf_as_na', True):\n"
     ]
    },
    {
     "data": {
      "text/plain": [
       "<Axes: xlabel='Sales', ylabel='Density'>"
      ]
     },
     "execution_count": 61,
     "metadata": {},
     "output_type": "execute_result"
    },
    {
     "data": {
      "image/png": "[encoded data removed]",
      "text/plain": [
       "<Figure size 640x480 with 1 Axes>"
      ]
     },
     "metadata": {},
     "output_type": "display_data"
    }
   ],
   "source": [
    "sns.kdeplot(x=df['Sales'])"
   ]
  },
  {
   "cell_type": "code",
   "execution_count": 62,
   "id": "ee4925d3",
   "metadata": {
    "execution": {
     "iopub.execute_input": "2024-05-14T10:08:07.458372Z",
     "iopub.status.busy": "2024-05-14T10:08:07.457461Z",
     "iopub.status.idle": "2024-05-14T10:08:07.474272Z",
     "shell.execute_reply": "2024-05-14T10:08:07.473367Z"
    },
    "papermill": {
     "duration": 0.05211,
     "end_time": "2024-05-14T10:08:07.476128",
     "exception": false,
     "start_time": "2024-05-14T10:08:07.424018",
     "status": "completed"
    },
    "tags": []
   },
   "outputs": [
    {
     "data": {
      "text/html": [
       "<div>\n",
       "<style scoped>\n",
       "    .dataframe tbody tr th:only-of-type {\n",
       "        vertical-align: middle;\n",
       "    }\n",
       "\n",
       "    .dataframe tbody tr th {\n",
       "        vertical-align: top;\n",
       "    }\n",
       "\n",
       "    .dataframe thead th {\n",
       "        text-align: right;\n",
       "    }\n",
       "</style>\n",
       "<table border=\"1\" class=\"dataframe\">\n",
       "  <thead>\n",
       "    <tr style=\"text-align: right;\">\n",
       "      <th></th>\n",
       "      <th>Time</th>\n",
       "      <th>State</th>\n",
       "      <th>Group</th>\n",
       "      <th>Unit</th>\n",
       "      <th>Sales</th>\n",
       "      <th>Month</th>\n",
       "      <th>Year</th>\n",
       "      <th>DayOfWeek</th>\n",
       "    </tr>\n",
       "    <tr>\n",
       "      <th>Date</th>\n",
       "      <th></th>\n",
       "      <th></th>\n",
       "      <th></th>\n",
       "      <th></th>\n",
       "      <th></th>\n",
       "      <th></th>\n",
       "      <th></th>\n",
       "      <th></th>\n",
       "    </tr>\n",
       "  </thead>\n",
       "  <tbody>\n",
       "    <tr>\n",
       "      <th>2020-10-08</th>\n",
       "      <td>Evening</td>\n",
       "      <td>WA</td>\n",
       "      <td>Women</td>\n",
       "      <td>3</td>\n",
       "      <td>7500</td>\n",
       "      <td>10</td>\n",
       "      <td>2020</td>\n",
       "      <td>3</td>\n",
       "    </tr>\n",
       "    <tr>\n",
       "      <th>2020-10-08</th>\n",
       "      <td>Evening</td>\n",
       "      <td>WA</td>\n",
       "      <td>Seniors</td>\n",
       "      <td>10</td>\n",
       "      <td>25000</td>\n",
       "      <td>10</td>\n",
       "      <td>2020</td>\n",
       "      <td>3</td>\n",
       "    </tr>\n",
       "    <tr>\n",
       "      <th>2020-10-08</th>\n",
       "      <td>Evening</td>\n",
       "      <td>NT</td>\n",
       "      <td>Kids</td>\n",
       "      <td>13</td>\n",
       "      <td>32500</td>\n",
       "      <td>10</td>\n",
       "      <td>2020</td>\n",
       "      <td>3</td>\n",
       "    </tr>\n",
       "    <tr>\n",
       "      <th>2020-10-08</th>\n",
       "      <td>Afternoon</td>\n",
       "      <td>SA</td>\n",
       "      <td>Men</td>\n",
       "      <td>28</td>\n",
       "      <td>70000</td>\n",
       "      <td>10</td>\n",
       "      <td>2020</td>\n",
       "      <td>3</td>\n",
       "    </tr>\n",
       "    <tr>\n",
       "      <th>2020-10-09</th>\n",
       "      <td>Evening</td>\n",
       "      <td>WA</td>\n",
       "      <td>Kids</td>\n",
       "      <td>7</td>\n",
       "      <td>17500</td>\n",
       "      <td>10</td>\n",
       "      <td>2020</td>\n",
       "      <td>4</td>\n",
       "    </tr>\n",
       "    <tr>\n",
       "      <th>...</th>\n",
       "      <td>...</td>\n",
       "      <td>...</td>\n",
       "      <td>...</td>\n",
       "      <td>...</td>\n",
       "      <td>...</td>\n",
       "      <td>...</td>\n",
       "      <td>...</td>\n",
       "      <td>...</td>\n",
       "    </tr>\n",
       "    <tr>\n",
       "      <th>2020-12-30</th>\n",
       "      <td>Afternoon</td>\n",
       "      <td>TAS</td>\n",
       "      <td>Kids</td>\n",
       "      <td>6</td>\n",
       "      <td>15000</td>\n",
       "      <td>12</td>\n",
       "      <td>2020</td>\n",
       "      <td>2</td>\n",
       "    </tr>\n",
       "    <tr>\n",
       "      <th>2020-12-30</th>\n",
       "      <td>Afternoon</td>\n",
       "      <td>TAS</td>\n",
       "      <td>Men</td>\n",
       "      <td>15</td>\n",
       "      <td>37500</td>\n",
       "      <td>12</td>\n",
       "      <td>2020</td>\n",
       "      <td>2</td>\n",
       "    </tr>\n",
       "    <tr>\n",
       "      <th>2020-12-30</th>\n",
       "      <td>Evening</td>\n",
       "      <td>TAS</td>\n",
       "      <td>Kids</td>\n",
       "      <td>15</td>\n",
       "      <td>37500</td>\n",
       "      <td>12</td>\n",
       "      <td>2020</td>\n",
       "      <td>2</td>\n",
       "    </tr>\n",
       "    <tr>\n",
       "      <th>2020-12-30</th>\n",
       "      <td>Evening</td>\n",
       "      <td>TAS</td>\n",
       "      <td>Men</td>\n",
       "      <td>15</td>\n",
       "      <td>37500</td>\n",
       "      <td>12</td>\n",
       "      <td>2020</td>\n",
       "      <td>2</td>\n",
       "    </tr>\n",
       "    <tr>\n",
       "      <th>2020-12-30</th>\n",
       "      <td>Evening</td>\n",
       "      <td>TAS</td>\n",
       "      <td>Women</td>\n",
       "      <td>11</td>\n",
       "      <td>27500</td>\n",
       "      <td>12</td>\n",
       "      <td>2020</td>\n",
       "      <td>2</td>\n",
       "    </tr>\n",
       "  </tbody>\n",
       "</table>\n",
       "<p>808 rows × 8 columns</p>\n",
       "</div>"
      ],
      "text/plain": [
       "                  Time State     Group  Unit  Sales  Month  Year  DayOfWeek\n",
       "Date                                                                       \n",
       "2020-10-08     Evening    WA     Women     3   7500     10  2020          3\n",
       "2020-10-08     Evening    WA   Seniors    10  25000     10  2020          3\n",
       "2020-10-08     Evening    NT      Kids    13  32500     10  2020          3\n",
       "2020-10-08   Afternoon    SA       Men    28  70000     10  2020          3\n",
       "2020-10-09     Evening    WA      Kids     7  17500     10  2020          4\n",
       "...                ...   ...       ...   ...    ...    ...   ...        ...\n",
       "2020-12-30   Afternoon   TAS      Kids     6  15000     12  2020          2\n",
       "2020-12-30   Afternoon   TAS       Men    15  37500     12  2020          2\n",
       "2020-12-30     Evening   TAS      Kids    15  37500     12  2020          2\n",
       "2020-12-30     Evening   TAS       Men    15  37500     12  2020          2\n",
       "2020-12-30     Evening   TAS     Women    11  27500     12  2020          2\n",
       "\n",
       "[808 rows x 8 columns]"
      ]
     },
     "execution_count": 62,
     "metadata": {},
     "output_type": "execute_result"
    }
   ],
   "source": [
    "df[df.duplicated()==True]"
   ]
  },
  {
   "cell_type": "code",
   "execution_count": 63,
   "id": "e8b43553",
   "metadata": {
    "execution": {
     "iopub.execute_input": "2024-05-14T10:08:07.542392Z",
     "iopub.status.busy": "2024-05-14T10:08:07.541718Z",
     "iopub.status.idle": "2024-05-14T10:08:07.546232Z",
     "shell.execute_reply": "2024-05-14T10:08:07.545396Z"
    },
    "papermill": {
     "duration": 0.039742,
     "end_time": "2024-05-14T10:08:07.548043",
     "exception": false,
     "start_time": "2024-05-14T10:08:07.508301",
     "status": "completed"
    },
    "tags": []
   },
   "outputs": [],
   "source": [
    "data=df.copy()"
   ]
  },
  {
   "cell_type": "code",
   "execution_count": 64,
   "id": "8f2951e9",
   "metadata": {
    "execution": {
     "iopub.execute_input": "2024-05-14T10:08:07.614805Z",
     "iopub.status.busy": "2024-05-14T10:08:07.613777Z",
     "iopub.status.idle": "2024-05-14T10:08:07.631164Z",
     "shell.execute_reply": "2024-05-14T10:08:07.630165Z"
    },
    "papermill": {
     "duration": 0.052922,
     "end_time": "2024-05-14T10:08:07.633302",
     "exception": false,
     "start_time": "2024-05-14T10:08:07.580380",
     "status": "completed"
    },
    "tags": []
   },
   "outputs": [
    {
     "data": {
      "text/html": [
       "<div>\n",
       "<style scoped>\n",
       "    .dataframe tbody tr th:only-of-type {\n",
       "        vertical-align: middle;\n",
       "    }\n",
       "\n",
       "    .dataframe tbody tr th {\n",
       "        vertical-align: top;\n",
       "    }\n",
       "\n",
       "    .dataframe thead th {\n",
       "        text-align: right;\n",
       "    }\n",
       "</style>\n",
       "<table border=\"1\" class=\"dataframe\">\n",
       "  <thead>\n",
       "    <tr style=\"text-align: right;\">\n",
       "      <th></th>\n",
       "      <th>Time</th>\n",
       "      <th>State</th>\n",
       "      <th>Group</th>\n",
       "      <th>Unit</th>\n",
       "      <th>Sales</th>\n",
       "      <th>Month</th>\n",
       "      <th>Year</th>\n",
       "      <th>DayOfWeek</th>\n",
       "    </tr>\n",
       "    <tr>\n",
       "      <th>Date</th>\n",
       "      <th></th>\n",
       "      <th></th>\n",
       "      <th></th>\n",
       "      <th></th>\n",
       "      <th></th>\n",
       "      <th></th>\n",
       "      <th></th>\n",
       "      <th></th>\n",
       "    </tr>\n",
       "  </thead>\n",
       "  <tbody>\n",
       "    <tr>\n",
       "      <th>2020-10-01</th>\n",
       "      <td>Morning</td>\n",
       "      <td>WA</td>\n",
       "      <td>Kids</td>\n",
       "      <td>8</td>\n",
       "      <td>20000</td>\n",
       "      <td>10</td>\n",
       "      <td>2020</td>\n",
       "      <td>3</td>\n",
       "    </tr>\n",
       "    <tr>\n",
       "      <th>2020-10-01</th>\n",
       "      <td>Morning</td>\n",
       "      <td>WA</td>\n",
       "      <td>Men</td>\n",
       "      <td>8</td>\n",
       "      <td>20000</td>\n",
       "      <td>10</td>\n",
       "      <td>2020</td>\n",
       "      <td>3</td>\n",
       "    </tr>\n",
       "    <tr>\n",
       "      <th>2020-10-01</th>\n",
       "      <td>Morning</td>\n",
       "      <td>WA</td>\n",
       "      <td>Women</td>\n",
       "      <td>4</td>\n",
       "      <td>10000</td>\n",
       "      <td>10</td>\n",
       "      <td>2020</td>\n",
       "      <td>3</td>\n",
       "    </tr>\n",
       "    <tr>\n",
       "      <th>2020-10-01</th>\n",
       "      <td>Morning</td>\n",
       "      <td>WA</td>\n",
       "      <td>Seniors</td>\n",
       "      <td>15</td>\n",
       "      <td>37500</td>\n",
       "      <td>10</td>\n",
       "      <td>2020</td>\n",
       "      <td>3</td>\n",
       "    </tr>\n",
       "    <tr>\n",
       "      <th>2020-10-01</th>\n",
       "      <td>Afternoon</td>\n",
       "      <td>WA</td>\n",
       "      <td>Kids</td>\n",
       "      <td>3</td>\n",
       "      <td>7500</td>\n",
       "      <td>10</td>\n",
       "      <td>2020</td>\n",
       "      <td>3</td>\n",
       "    </tr>\n",
       "    <tr>\n",
       "      <th>...</th>\n",
       "      <td>...</td>\n",
       "      <td>...</td>\n",
       "      <td>...</td>\n",
       "      <td>...</td>\n",
       "      <td>...</td>\n",
       "      <td>...</td>\n",
       "      <td>...</td>\n",
       "      <td>...</td>\n",
       "    </tr>\n",
       "    <tr>\n",
       "      <th>2020-12-30</th>\n",
       "      <td>Morning</td>\n",
       "      <td>TAS</td>\n",
       "      <td>Women</td>\n",
       "      <td>14</td>\n",
       "      <td>35000</td>\n",
       "      <td>12</td>\n",
       "      <td>2020</td>\n",
       "      <td>2</td>\n",
       "    </tr>\n",
       "    <tr>\n",
       "      <th>2020-12-30</th>\n",
       "      <td>Morning</td>\n",
       "      <td>TAS</td>\n",
       "      <td>Seniors</td>\n",
       "      <td>11</td>\n",
       "      <td>27500</td>\n",
       "      <td>12</td>\n",
       "      <td>2020</td>\n",
       "      <td>2</td>\n",
       "    </tr>\n",
       "    <tr>\n",
       "      <th>2020-12-30</th>\n",
       "      <td>Afternoon</td>\n",
       "      <td>TAS</td>\n",
       "      <td>Women</td>\n",
       "      <td>10</td>\n",
       "      <td>25000</td>\n",
       "      <td>12</td>\n",
       "      <td>2020</td>\n",
       "      <td>2</td>\n",
       "    </tr>\n",
       "    <tr>\n",
       "      <th>2020-12-30</th>\n",
       "      <td>Afternoon</td>\n",
       "      <td>TAS</td>\n",
       "      <td>Seniors</td>\n",
       "      <td>14</td>\n",
       "      <td>35000</td>\n",
       "      <td>12</td>\n",
       "      <td>2020</td>\n",
       "      <td>2</td>\n",
       "    </tr>\n",
       "    <tr>\n",
       "      <th>2020-12-30</th>\n",
       "      <td>Evening</td>\n",
       "      <td>TAS</td>\n",
       "      <td>Seniors</td>\n",
       "      <td>13</td>\n",
       "      <td>32500</td>\n",
       "      <td>12</td>\n",
       "      <td>2020</td>\n",
       "      <td>2</td>\n",
       "    </tr>\n",
       "  </tbody>\n",
       "</table>\n",
       "<p>6752 rows × 8 columns</p>\n",
       "</div>"
      ],
      "text/plain": [
       "                  Time State     Group  Unit  Sales  Month  Year  DayOfWeek\n",
       "Date                                                                       \n",
       "2020-10-01     Morning    WA      Kids     8  20000     10  2020          3\n",
       "2020-10-01     Morning    WA       Men     8  20000     10  2020          3\n",
       "2020-10-01     Morning    WA     Women     4  10000     10  2020          3\n",
       "2020-10-01     Morning    WA   Seniors    15  37500     10  2020          3\n",
       "2020-10-01   Afternoon    WA      Kids     3   7500     10  2020          3\n",
       "...                ...   ...       ...   ...    ...    ...   ...        ...\n",
       "2020-12-30     Morning   TAS     Women    14  35000     12  2020          2\n",
       "2020-12-30     Morning   TAS   Seniors    11  27500     12  2020          2\n",
       "2020-12-30   Afternoon   TAS     Women    10  25000     12  2020          2\n",
       "2020-12-30   Afternoon   TAS   Seniors    14  35000     12  2020          2\n",
       "2020-12-30     Evening   TAS   Seniors    13  32500     12  2020          2\n",
       "\n",
       "[6752 rows x 8 columns]"
      ]
     },
     "execution_count": 64,
     "metadata": {},
     "output_type": "execute_result"
    }
   ],
   "source": [
    "data.drop_duplicates()"
   ]
  },
  {
   "cell_type": "code",
   "execution_count": 65,
   "id": "84fb3a18",
   "metadata": {
    "execution": {
     "iopub.execute_input": "2024-05-14T10:08:07.699930Z",
     "iopub.status.busy": "2024-05-14T10:08:07.699541Z",
     "iopub.status.idle": "2024-05-14T10:08:07.704849Z",
     "shell.execute_reply": "2024-05-14T10:08:07.704177Z"
    },
    "papermill": {
     "duration": 0.04051,
     "end_time": "2024-05-14T10:08:07.706595",
     "exception": false,
     "start_time": "2024-05-14T10:08:07.666085",
     "status": "completed"
    },
    "tags": []
   },
   "outputs": [
    {
     "data": {
      "text/plain": [
       "(7560, 8)"
      ]
     },
     "execution_count": 65,
     "metadata": {},
     "output_type": "execute_result"
    }
   ],
   "source": [
    "df.shape"
   ]
  },
  {
   "cell_type": "code",
   "execution_count": 66,
   "id": "83c9219a",
   "metadata": {
    "execution": {
     "iopub.execute_input": "2024-05-14T10:08:07.774631Z",
     "iopub.status.busy": "2024-05-14T10:08:07.773958Z",
     "iopub.status.idle": "2024-05-14T10:08:07.779337Z",
     "shell.execute_reply": "2024-05-14T10:08:07.778650Z"
    },
    "papermill": {
     "duration": 0.041675,
     "end_time": "2024-05-14T10:08:07.781216",
     "exception": false,
     "start_time": "2024-05-14T10:08:07.739541",
     "status": "completed"
    },
    "tags": []
   },
   "outputs": [
    {
     "data": {
      "text/plain": [
       "808"
      ]
     },
     "execution_count": 66,
     "metadata": {},
     "output_type": "execute_result"
    }
   ],
   "source": [
    "7560-6752 "
   ]
  },
  {
   "cell_type": "code",
   "execution_count": 67,
   "id": "d8b1219e",
   "metadata": {
    "execution": {
     "iopub.execute_input": "2024-05-14T10:08:07.849759Z",
     "iopub.status.busy": "2024-05-14T10:08:07.849105Z",
     "iopub.status.idle": "2024-05-14T10:08:08.054580Z",
     "shell.execute_reply": "2024-05-14T10:08:08.053839Z"
    },
    "papermill": {
     "duration": 0.241466,
     "end_time": "2024-05-14T10:08:08.056442",
     "exception": false,
     "start_time": "2024-05-14T10:08:07.814976",
     "status": "completed"
    },
    "tags": []
   },
   "outputs": [
    {
     "data": {
      "text/plain": [
       "<Axes: xlabel='Sales'>"
      ]
     },
     "execution_count": 67,
     "metadata": {},
     "output_type": "execute_result"
    },
    {
     "data": {
      "image/png": "[encoded data removed]",
      "text/plain": [
       "<Figure size 640x480 with 1 Axes>"
      ]
     },
     "metadata": {},
     "output_type": "display_data"
    }
   ],
   "source": [
    "sns.boxplot(x=data[\"Sales\"], data=data)"
   ]
  },
  {
   "cell_type": "code",
   "execution_count": 68,
   "id": "425dbdb5",
   "metadata": {
    "execution": {
     "iopub.execute_input": "2024-05-14T10:08:08.123910Z",
     "iopub.status.busy": "2024-05-14T10:08:08.123518Z",
     "iopub.status.idle": "2024-05-14T10:08:08.382146Z",
     "shell.execute_reply": "2024-05-14T10:08:08.381119Z"
    },
    "papermill": {
     "duration": 0.295213,
     "end_time": "2024-05-14T10:08:08.384525",
     "exception": false,
     "start_time": "2024-05-14T10:08:08.089312",
     "status": "completed"
    },
    "tags": []
   },
   "outputs": [
    {
     "data": {
      "image/png": "[encoded data removed]",
      "text/plain": [
       "<Figure size 640x480 with 1 Axes>"
      ]
     },
     "metadata": {},
     "output_type": "display_data"
    }
   ],
   "source": [
    "plt.hist(data[\"Sales\"],bins=100, color='g',histtype='step')\n",
    "plt.tight_layout()"
   ]
  },
  {
   "cell_type": "code",
   "execution_count": 69,
   "id": "80d86f32",
   "metadata": {
    "execution": {
     "iopub.execute_input": "2024-05-14T10:08:08.454519Z",
     "iopub.status.busy": "2024-05-14T10:08:08.453593Z",
     "iopub.status.idle": "2024-05-14T10:08:08.732065Z",
     "shell.execute_reply": "2024-05-14T10:08:08.730969Z"
    },
    "papermill": {
     "duration": 0.315801,
     "end_time": "2024-05-14T10:08:08.734421",
     "exception": false,
     "start_time": "2024-05-14T10:08:08.418620",
     "status": "completed"
    },
    "tags": []
   },
   "outputs": [
    {
     "data": {
      "text/plain": [
       "<Axes: title={'center': 'histogram'}, ylabel='Frequency'>"
      ]
     },
     "execution_count": 69,
     "metadata": {},
     "output_type": "execute_result"
    },
    {
     "data": {
      "image/png": "[encoded data removed]",
      "text/plain": [
       "<Figure size 640x480 with 1 Axes>"
      ]
     },
     "metadata": {},
     "output_type": "display_data"
    }
   ],
   "source": [
    "data['Sales'].plot(kind='hist',title='histogram')"
   ]
  },
  {
   "cell_type": "code",
   "execution_count": 70,
   "id": "5b0f05f0",
   "metadata": {
    "execution": {
     "iopub.execute_input": "2024-05-14T10:08:08.805990Z",
     "iopub.status.busy": "2024-05-14T10:08:08.805269Z",
     "iopub.status.idle": "2024-05-14T10:08:09.650802Z",
     "shell.execute_reply": "2024-05-14T10:08:09.649642Z"
    },
    "papermill": {
     "duration": 0.884318,
     "end_time": "2024-05-14T10:08:09.653498",
     "exception": false,
     "start_time": "2024-05-14T10:08:08.769180",
     "status": "completed"
    },
    "tags": []
   },
   "outputs": [
    {
     "data": {
      "text/plain": [
       "<Axes: xlabel='Sales', ylabel='Unit'>"
      ]
     },
     "execution_count": 70,
     "metadata": {},
     "output_type": "execute_result"
    },
    {
     "data": {
      "image/png": "[encoded data removed]",
      "text/plain": [
       "<Figure size 640x480 with 1 Axes>"
      ]
     },
     "metadata": {},
     "output_type": "display_data"
    }
   ],
   "source": [
    "sns.scatterplot(data=data, x=data['Sales'], y=data['Unit'],hue='State')"
   ]
  },
  {
   "cell_type": "code",
   "execution_count": 71,
   "id": "e6d071aa",
   "metadata": {
    "execution": {
     "iopub.execute_input": "2024-05-14T10:08:09.728392Z",
     "iopub.status.busy": "2024-05-14T10:08:09.728004Z",
     "iopub.status.idle": "2024-05-14T10:08:09.999096Z",
     "shell.execute_reply": "2024-05-14T10:08:09.998354Z"
    },
    "papermill": {
     "duration": 0.310799,
     "end_time": "2024-05-14T10:08:10.001051",
     "exception": false,
     "start_time": "2024-05-14T10:08:09.690252",
     "status": "completed"
    },
    "tags": []
   },
   "outputs": [
    {
     "data": {
      "text/plain": [
       "<Axes: >"
      ]
     },
     "execution_count": 71,
     "metadata": {},
     "output_type": "execute_result"
    },
    {
     "data": {
      "image/png": "[encoded data removed]",
      "text/plain": [
       "<Figure size 640x480 with 2 Axes>"
      ]
     },
     "metadata": {},
     "output_type": "display_data"
    }
   ],
   "source": [
    "sns.heatmap(data.corr(numeric_only=True))"
   ]
  },
  {
   "cell_type": "code",
   "execution_count": 72,
   "id": "19eabf72",
   "metadata": {
    "execution": {
     "iopub.execute_input": "2024-05-14T10:08:10.077233Z",
     "iopub.status.busy": "2024-05-14T10:08:10.076270Z",
     "iopub.status.idle": "2024-05-14T10:08:10.408741Z",
     "shell.execute_reply": "2024-05-14T10:08:10.407698Z"
    },
    "papermill": {
     "duration": 0.372401,
     "end_time": "2024-05-14T10:08:10.411304",
     "exception": false,
     "start_time": "2024-05-14T10:08:10.038903",
     "status": "completed"
    },
    "tags": []
   },
   "outputs": [
    {
     "data": {
      "text/plain": [
       "<Axes: >"
      ]
     },
     "execution_count": 72,
     "metadata": {},
     "output_type": "execute_result"
    },
    {
     "data": {
      "image/png": "[encoded data removed]",
      "text/plain": [
       "<Figure size 640x480 with 2 Axes>"
      ]
     },
     "metadata": {},
     "output_type": "display_data"
    }
   ],
   "source": [
    "sns.heatmap(data.corr(numeric_only=True), annot=True)"
   ]
  },
  {
   "cell_type": "code",
   "execution_count": null,
   "id": "c3d9e224",
   "metadata": {
    "papermill": {
     "duration": 0.036243,
     "end_time": "2024-05-14T10:08:10.485253",
     "exception": false,
     "start_time": "2024-05-14T10:08:10.449010",
     "status": "completed"
    },
    "tags": []
   },
   "outputs": [],
   "source": []
  }
 ],
 "metadata": {
  "kaggle": {
   "accelerator": "none",
   "dataSources": [
    {
     "datasetId": 5002813,
     "sourceId": 8406976,
     "sourceType": "datasetVersion"
    }
   ],
   "dockerImageVersionId": 30698,
   "isGpuEnabled": false,
   "isInternetEnabled": true,
   "language": "python",
   "sourceType": "notebook"
  },
  "kernelspec": {
   "display_name": "Python 3",
   "language": "python",
   "name": "python3"
  },
  "language_info": {
   "codemirror_mode": {
    "name": "ipython",
    "version": 3
   },
   "file_extension": ".py",
   "mimetype": "text/x-python",
   "name": "python",
   "nbconvert_exporter": "python",
   "pygments_lexer": "ipython3",
   "version": "3.10.13"
  },
  "papermill": {
   "default_parameters": {},
   "duration": 34.06454,
   "end_time": "2024-05-14T10:08:11.444512",
   "environment_variables": {},
   "exception": null,
   "input_path": "__notebook__.ipynb",
   "output_path": "__notebook__.ipynb",
   "parameters": {},
   "start_time": "2024-05-14T10:07:37.379972",
   "version": "2.5.0"
  }
 },
 "nbformat": 4,
 "nbformat_minor": 5
}
